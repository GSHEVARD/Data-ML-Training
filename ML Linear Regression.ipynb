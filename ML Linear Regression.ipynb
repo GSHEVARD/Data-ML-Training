{
 "cells": [
  {
   "cell_type": "code",
   "execution_count": 288,
   "id": "0fdd0402-549e-4f6c-9591-213f7140f4a5",
   "metadata": {
    "tags": []
   },
   "outputs": [],
   "source": [
    "import numpy as np\n",
    "import matplotlib.pyplot as plt\n",
    "import pandas as pd\n",
    "from sklearn.linear_model import SGDRegressor\n",
    "from sklearn.preprocessing import StandardScaler"
   ]
  },
  {
   "cell_type": "code",
   "execution_count": 34,
   "id": "ddaa5f38-cff5-4a09-8d11-64841a578022",
   "metadata": {
    "tags": []
   },
   "outputs": [],
   "source": [
    "df = pd.read_csv('realtor-data.csv')"
   ]
  },
  {
   "cell_type": "code",
   "execution_count": 187,
   "id": "f26bc08e-faee-43c8-9861-9fde477ab9be",
   "metadata": {
    "tags": []
   },
   "outputs": [],
   "source": [
    "df_test = pd.read_csv('realtor-data.csv')"
   ]
  },
  {
   "cell_type": "code",
   "execution_count": 35,
   "id": "43b694b8-8dd7-4ce7-a67b-71610c3f7ee8",
   "metadata": {
    "tags": []
   },
   "outputs": [
    {
     "data": {
      "text/plain": [
       "(206000, 10)"
      ]
     },
     "execution_count": 35,
     "metadata": {},
     "output_type": "execute_result"
    }
   ],
   "source": [
    "df.shape"
   ]
  },
  {
   "cell_type": "code",
   "execution_count": 36,
   "id": "c05b226e-ba47-43e6-89eb-315edcd8f9bb",
   "metadata": {
    "tags": []
   },
   "outputs": [
    {
     "data": {
      "text/plain": [
       "Index(['status', 'bed', 'bath', 'acre_lot', 'city', 'state', 'zip_code',\n",
       "       'house_size', 'prev_sold_date', 'price'],\n",
       "      dtype='object')"
      ]
     },
     "execution_count": 36,
     "metadata": {},
     "output_type": "execute_result"
    }
   ],
   "source": [
    "df.columns"
   ]
  },
  {
   "cell_type": "code",
   "execution_count": 289,
   "id": "1ab476a3-3587-4b8d-9f1b-5d80120ac994",
   "metadata": {
    "tags": []
   },
   "outputs": [
    {
     "name": "stdout",
     "output_type": "stream",
     "text": [
      "Peak to Peak range by column in Raw        X:bed     14.0\n",
      "bath    14.0\n",
      "dtype: float64\n",
      "Peak to Peak range by column in Normalized X:[ 9.70142155 12.60875894]\n"
     ]
    }
   ],
   "source": [
    "scaler = StandardScaler()\n",
    "X_norm = scaler.fit_transform(X_train)\n",
    "print(f\"Peak to Peak range by column in Raw        X:{np.ptp(X_train,axis=0)}\")   \n",
    "print(f\"Peak to Peak range by column in Normalized X:{np.ptp(X_norm,axis=0)}\")"
   ]
  },
  {
   "cell_type": "code",
   "execution_count": 37,
   "id": "87f345c1-f76f-4afd-909f-b48ab9e48fda",
   "metadata": {
    "tags": []
   },
   "outputs": [
    {
     "data": {
      "text/html": [
       "<div>\n",
       "<style scoped>\n",
       "    .dataframe tbody tr th:only-of-type {\n",
       "        vertical-align: middle;\n",
       "    }\n",
       "\n",
       "    .dataframe tbody tr th {\n",
       "        vertical-align: top;\n",
       "    }\n",
       "\n",
       "    .dataframe thead th {\n",
       "        text-align: right;\n",
       "    }\n",
       "</style>\n",
       "<table border=\"1\" class=\"dataframe\">\n",
       "  <thead>\n",
       "    <tr style=\"text-align: right;\">\n",
       "      <th></th>\n",
       "      <th>status</th>\n",
       "      <th>bed</th>\n",
       "      <th>bath</th>\n",
       "      <th>acre_lot</th>\n",
       "      <th>city</th>\n",
       "      <th>state</th>\n",
       "      <th>zip_code</th>\n",
       "      <th>house_size</th>\n",
       "      <th>prev_sold_date</th>\n",
       "      <th>price</th>\n",
       "    </tr>\n",
       "  </thead>\n",
       "  <tbody>\n",
       "    <tr>\n",
       "      <th>0</th>\n",
       "      <td>for_sale</td>\n",
       "      <td>3.0</td>\n",
       "      <td>2.0</td>\n",
       "      <td>0.12</td>\n",
       "      <td>Adjuntas</td>\n",
       "      <td>Puerto Rico</td>\n",
       "      <td>601.0</td>\n",
       "      <td>920.0</td>\n",
       "      <td>NaN</td>\n",
       "      <td>105000.0</td>\n",
       "    </tr>\n",
       "    <tr>\n",
       "      <th>1</th>\n",
       "      <td>for_sale</td>\n",
       "      <td>4.0</td>\n",
       "      <td>2.0</td>\n",
       "      <td>0.08</td>\n",
       "      <td>Adjuntas</td>\n",
       "      <td>Puerto Rico</td>\n",
       "      <td>601.0</td>\n",
       "      <td>1527.0</td>\n",
       "      <td>NaN</td>\n",
       "      <td>80000.0</td>\n",
       "    </tr>\n",
       "    <tr>\n",
       "      <th>2</th>\n",
       "      <td>for_sale</td>\n",
       "      <td>2.0</td>\n",
       "      <td>1.0</td>\n",
       "      <td>0.15</td>\n",
       "      <td>Juana Diaz</td>\n",
       "      <td>Puerto Rico</td>\n",
       "      <td>795.0</td>\n",
       "      <td>748.0</td>\n",
       "      <td>NaN</td>\n",
       "      <td>67000.0</td>\n",
       "    </tr>\n",
       "    <tr>\n",
       "      <th>3</th>\n",
       "      <td>for_sale</td>\n",
       "      <td>4.0</td>\n",
       "      <td>2.0</td>\n",
       "      <td>0.10</td>\n",
       "      <td>Ponce</td>\n",
       "      <td>Puerto Rico</td>\n",
       "      <td>731.0</td>\n",
       "      <td>1800.0</td>\n",
       "      <td>NaN</td>\n",
       "      <td>145000.0</td>\n",
       "    </tr>\n",
       "    <tr>\n",
       "      <th>4</th>\n",
       "      <td>for_sale</td>\n",
       "      <td>6.0</td>\n",
       "      <td>2.0</td>\n",
       "      <td>0.05</td>\n",
       "      <td>Mayaguez</td>\n",
       "      <td>Puerto Rico</td>\n",
       "      <td>680.0</td>\n",
       "      <td>NaN</td>\n",
       "      <td>NaN</td>\n",
       "      <td>65000.0</td>\n",
       "    </tr>\n",
       "  </tbody>\n",
       "</table>\n",
       "</div>"
      ],
      "text/plain": [
       "     status  bed  bath  acre_lot        city        state  zip_code  \\\n",
       "0  for_sale  3.0   2.0      0.12    Adjuntas  Puerto Rico     601.0   \n",
       "1  for_sale  4.0   2.0      0.08    Adjuntas  Puerto Rico     601.0   \n",
       "2  for_sale  2.0   1.0      0.15  Juana Diaz  Puerto Rico     795.0   \n",
       "3  for_sale  4.0   2.0      0.10       Ponce  Puerto Rico     731.0   \n",
       "4  for_sale  6.0   2.0      0.05    Mayaguez  Puerto Rico     680.0   \n",
       "\n",
       "   house_size prev_sold_date     price  \n",
       "0       920.0            NaN  105000.0  \n",
       "1      1527.0            NaN   80000.0  \n",
       "2       748.0            NaN   67000.0  \n",
       "3      1800.0            NaN  145000.0  \n",
       "4         NaN            NaN   65000.0  "
      ]
     },
     "execution_count": 37,
     "metadata": {},
     "output_type": "execute_result"
    }
   ],
   "source": [
    "df.head()"
   ]
  },
  {
   "cell_type": "code",
   "execution_count": 40,
   "id": "b88b5f14-aa9b-4ffa-96a3-0181295e986e",
   "metadata": {
    "tags": []
   },
   "outputs": [
    {
     "name": "stdout",
     "output_type": "stream",
     "text": [
      "249900.0 890000.0\n",
      "1850150.0 0\n"
     ]
    }
   ],
   "source": [
    "Q1 = df['price'].quantile(0.25)\n",
    "Q3 = df['price'].quantile(0.75)\n",
    "\n",
    "IQR = Q3-Q1\n",
    "\n",
    "upper_bound = Q3 + (1.5 * IQR)\n",
    "lower_bound = 0\n",
    "\n",
    "print (Q1, Q3)\n",
    "print (upper_bound, lower_bound)"
   ]
  },
  {
   "cell_type": "code",
   "execution_count": 41,
   "id": "f51f6287-317e-4a1c-88fc-f59eb7aef929",
   "metadata": {
    "tags": []
   },
   "outputs": [],
   "source": [
    "df = df.loc[(df['price']< upper_bound) & (df['price']> 50_000)]"
   ]
  },
  {
   "cell_type": "code",
   "execution_count": 42,
   "id": "f421df40-7581-4f97-815f-8c37637386f3",
   "metadata": {
    "tags": []
   },
   "outputs": [
    {
     "data": {
      "text/plain": [
       "(180295, 10)"
      ]
     },
     "execution_count": 42,
     "metadata": {},
     "output_type": "execute_result"
    }
   ],
   "source": [
    "df.shape"
   ]
  },
  {
   "cell_type": "code",
   "execution_count": 48,
   "id": "82bf9703-4c20-46ad-a3e1-2269a939a288",
   "metadata": {
    "tags": []
   },
   "outputs": [
    {
     "data": {
      "text/html": [
       "<div>\n",
       "<style scoped>\n",
       "    .dataframe tbody tr th:only-of-type {\n",
       "        vertical-align: middle;\n",
       "    }\n",
       "\n",
       "    .dataframe tbody tr th {\n",
       "        vertical-align: top;\n",
       "    }\n",
       "\n",
       "    .dataframe thead th {\n",
       "        text-align: right;\n",
       "    }\n",
       "</style>\n",
       "<table border=\"1\" class=\"dataframe\">\n",
       "  <thead>\n",
       "    <tr style=\"text-align: right;\">\n",
       "      <th></th>\n",
       "      <th>status</th>\n",
       "      <th>bed</th>\n",
       "      <th>bath</th>\n",
       "      <th>acre_lot</th>\n",
       "      <th>city</th>\n",
       "      <th>state</th>\n",
       "      <th>zip_code</th>\n",
       "      <th>house_size</th>\n",
       "      <th>prev_sold_date</th>\n",
       "      <th>price</th>\n",
       "    </tr>\n",
       "  </thead>\n",
       "  <tbody>\n",
       "    <tr>\n",
       "      <th>29820</th>\n",
       "      <td>for_sale</td>\n",
       "      <td>NaN</td>\n",
       "      <td>NaN</td>\n",
       "      <td>6.92</td>\n",
       "      <td>Palmer</td>\n",
       "      <td>Massachusetts</td>\n",
       "      <td>1069.0</td>\n",
       "      <td>NaN</td>\n",
       "      <td>NaN</td>\n",
       "      <td>51000.0</td>\n",
       "    </tr>\n",
       "    <tr>\n",
       "      <th>30985</th>\n",
       "      <td>for_sale</td>\n",
       "      <td>NaN</td>\n",
       "      <td>NaN</td>\n",
       "      <td>6.92</td>\n",
       "      <td>Palmer</td>\n",
       "      <td>Massachusetts</td>\n",
       "      <td>1069.0</td>\n",
       "      <td>NaN</td>\n",
       "      <td>NaN</td>\n",
       "      <td>51000.0</td>\n",
       "    </tr>\n",
       "    <tr>\n",
       "      <th>32355</th>\n",
       "      <td>for_sale</td>\n",
       "      <td>NaN</td>\n",
       "      <td>NaN</td>\n",
       "      <td>6.92</td>\n",
       "      <td>Palmer</td>\n",
       "      <td>Massachusetts</td>\n",
       "      <td>1069.0</td>\n",
       "      <td>NaN</td>\n",
       "      <td>NaN</td>\n",
       "      <td>51000.0</td>\n",
       "    </tr>\n",
       "    <tr>\n",
       "      <th>33680</th>\n",
       "      <td>for_sale</td>\n",
       "      <td>NaN</td>\n",
       "      <td>NaN</td>\n",
       "      <td>6.92</td>\n",
       "      <td>Palmer</td>\n",
       "      <td>Massachusetts</td>\n",
       "      <td>1069.0</td>\n",
       "      <td>NaN</td>\n",
       "      <td>NaN</td>\n",
       "      <td>51000.0</td>\n",
       "    </tr>\n",
       "    <tr>\n",
       "      <th>37582</th>\n",
       "      <td>for_sale</td>\n",
       "      <td>NaN</td>\n",
       "      <td>NaN</td>\n",
       "      <td>6.92</td>\n",
       "      <td>Palmer</td>\n",
       "      <td>Massachusetts</td>\n",
       "      <td>1069.0</td>\n",
       "      <td>NaN</td>\n",
       "      <td>NaN</td>\n",
       "      <td>51000.0</td>\n",
       "    </tr>\n",
       "    <tr>\n",
       "      <th>38051</th>\n",
       "      <td>for_sale</td>\n",
       "      <td>NaN</td>\n",
       "      <td>NaN</td>\n",
       "      <td>6.92</td>\n",
       "      <td>Palmer</td>\n",
       "      <td>Massachusetts</td>\n",
       "      <td>1069.0</td>\n",
       "      <td>NaN</td>\n",
       "      <td>NaN</td>\n",
       "      <td>51000.0</td>\n",
       "    </tr>\n",
       "    <tr>\n",
       "      <th>39563</th>\n",
       "      <td>for_sale</td>\n",
       "      <td>NaN</td>\n",
       "      <td>NaN</td>\n",
       "      <td>6.92</td>\n",
       "      <td>Palmer</td>\n",
       "      <td>Massachusetts</td>\n",
       "      <td>1069.0</td>\n",
       "      <td>NaN</td>\n",
       "      <td>NaN</td>\n",
       "      <td>51000.0</td>\n",
       "    </tr>\n",
       "    <tr>\n",
       "      <th>40302</th>\n",
       "      <td>for_sale</td>\n",
       "      <td>NaN</td>\n",
       "      <td>NaN</td>\n",
       "      <td>6.92</td>\n",
       "      <td>Palmer</td>\n",
       "      <td>Massachusetts</td>\n",
       "      <td>1069.0</td>\n",
       "      <td>NaN</td>\n",
       "      <td>NaN</td>\n",
       "      <td>51000.0</td>\n",
       "    </tr>\n",
       "    <tr>\n",
       "      <th>42788</th>\n",
       "      <td>for_sale</td>\n",
       "      <td>NaN</td>\n",
       "      <td>NaN</td>\n",
       "      <td>6.92</td>\n",
       "      <td>Palmer</td>\n",
       "      <td>Massachusetts</td>\n",
       "      <td>1069.0</td>\n",
       "      <td>NaN</td>\n",
       "      <td>NaN</td>\n",
       "      <td>51000.0</td>\n",
       "    </tr>\n",
       "    <tr>\n",
       "      <th>43353</th>\n",
       "      <td>for_sale</td>\n",
       "      <td>NaN</td>\n",
       "      <td>NaN</td>\n",
       "      <td>6.92</td>\n",
       "      <td>Palmer</td>\n",
       "      <td>Massachusetts</td>\n",
       "      <td>1069.0</td>\n",
       "      <td>NaN</td>\n",
       "      <td>NaN</td>\n",
       "      <td>51000.0</td>\n",
       "    </tr>\n",
       "    <tr>\n",
       "      <th>43857</th>\n",
       "      <td>for_sale</td>\n",
       "      <td>NaN</td>\n",
       "      <td>NaN</td>\n",
       "      <td>6.92</td>\n",
       "      <td>Palmer</td>\n",
       "      <td>Massachusetts</td>\n",
       "      <td>1069.0</td>\n",
       "      <td>NaN</td>\n",
       "      <td>NaN</td>\n",
       "      <td>51000.0</td>\n",
       "    </tr>\n",
       "    <tr>\n",
       "      <th>44635</th>\n",
       "      <td>for_sale</td>\n",
       "      <td>NaN</td>\n",
       "      <td>NaN</td>\n",
       "      <td>6.92</td>\n",
       "      <td>Palmer</td>\n",
       "      <td>Massachusetts</td>\n",
       "      <td>1069.0</td>\n",
       "      <td>NaN</td>\n",
       "      <td>NaN</td>\n",
       "      <td>51000.0</td>\n",
       "    </tr>\n",
       "    <tr>\n",
       "      <th>47363</th>\n",
       "      <td>for_sale</td>\n",
       "      <td>NaN</td>\n",
       "      <td>NaN</td>\n",
       "      <td>6.92</td>\n",
       "      <td>Palmer</td>\n",
       "      <td>Massachusetts</td>\n",
       "      <td>1069.0</td>\n",
       "      <td>NaN</td>\n",
       "      <td>NaN</td>\n",
       "      <td>51000.0</td>\n",
       "    </tr>\n",
       "    <tr>\n",
       "      <th>68150</th>\n",
       "      <td>for_sale</td>\n",
       "      <td>NaN</td>\n",
       "      <td>NaN</td>\n",
       "      <td>6.92</td>\n",
       "      <td>Palmer</td>\n",
       "      <td>Massachusetts</td>\n",
       "      <td>1069.0</td>\n",
       "      <td>NaN</td>\n",
       "      <td>NaN</td>\n",
       "      <td>51000.0</td>\n",
       "    </tr>\n",
       "    <tr>\n",
       "      <th>83981</th>\n",
       "      <td>for_sale</td>\n",
       "      <td>NaN</td>\n",
       "      <td>NaN</td>\n",
       "      <td>6.92</td>\n",
       "      <td>Palmer</td>\n",
       "      <td>Massachusetts</td>\n",
       "      <td>1069.0</td>\n",
       "      <td>NaN</td>\n",
       "      <td>NaN</td>\n",
       "      <td>51000.0</td>\n",
       "    </tr>\n",
       "    <tr>\n",
       "      <th>84985</th>\n",
       "      <td>for_sale</td>\n",
       "      <td>NaN</td>\n",
       "      <td>NaN</td>\n",
       "      <td>6.92</td>\n",
       "      <td>Palmer</td>\n",
       "      <td>Massachusetts</td>\n",
       "      <td>1069.0</td>\n",
       "      <td>NaN</td>\n",
       "      <td>NaN</td>\n",
       "      <td>51000.0</td>\n",
       "    </tr>\n",
       "    <tr>\n",
       "      <th>91770</th>\n",
       "      <td>for_sale</td>\n",
       "      <td>NaN</td>\n",
       "      <td>NaN</td>\n",
       "      <td>6.92</td>\n",
       "      <td>Palmer</td>\n",
       "      <td>Massachusetts</td>\n",
       "      <td>1069.0</td>\n",
       "      <td>NaN</td>\n",
       "      <td>NaN</td>\n",
       "      <td>51000.0</td>\n",
       "    </tr>\n",
       "    <tr>\n",
       "      <th>93546</th>\n",
       "      <td>for_sale</td>\n",
       "      <td>NaN</td>\n",
       "      <td>NaN</td>\n",
       "      <td>6.92</td>\n",
       "      <td>Palmer</td>\n",
       "      <td>Massachusetts</td>\n",
       "      <td>1069.0</td>\n",
       "      <td>NaN</td>\n",
       "      <td>NaN</td>\n",
       "      <td>51000.0</td>\n",
       "    </tr>\n",
       "  </tbody>\n",
       "</table>\n",
       "</div>"
      ],
      "text/plain": [
       "         status  bed  bath  acre_lot    city          state  zip_code  \\\n",
       "29820  for_sale  NaN   NaN      6.92  Palmer  Massachusetts    1069.0   \n",
       "30985  for_sale  NaN   NaN      6.92  Palmer  Massachusetts    1069.0   \n",
       "32355  for_sale  NaN   NaN      6.92  Palmer  Massachusetts    1069.0   \n",
       "33680  for_sale  NaN   NaN      6.92  Palmer  Massachusetts    1069.0   \n",
       "37582  for_sale  NaN   NaN      6.92  Palmer  Massachusetts    1069.0   \n",
       "38051  for_sale  NaN   NaN      6.92  Palmer  Massachusetts    1069.0   \n",
       "39563  for_sale  NaN   NaN      6.92  Palmer  Massachusetts    1069.0   \n",
       "40302  for_sale  NaN   NaN      6.92  Palmer  Massachusetts    1069.0   \n",
       "42788  for_sale  NaN   NaN      6.92  Palmer  Massachusetts    1069.0   \n",
       "43353  for_sale  NaN   NaN      6.92  Palmer  Massachusetts    1069.0   \n",
       "43857  for_sale  NaN   NaN      6.92  Palmer  Massachusetts    1069.0   \n",
       "44635  for_sale  NaN   NaN      6.92  Palmer  Massachusetts    1069.0   \n",
       "47363  for_sale  NaN   NaN      6.92  Palmer  Massachusetts    1069.0   \n",
       "68150  for_sale  NaN   NaN      6.92  Palmer  Massachusetts    1069.0   \n",
       "83981  for_sale  NaN   NaN      6.92  Palmer  Massachusetts    1069.0   \n",
       "84985  for_sale  NaN   NaN      6.92  Palmer  Massachusetts    1069.0   \n",
       "91770  for_sale  NaN   NaN      6.92  Palmer  Massachusetts    1069.0   \n",
       "93546  for_sale  NaN   NaN      6.92  Palmer  Massachusetts    1069.0   \n",
       "\n",
       "       house_size prev_sold_date    price  \n",
       "29820         NaN            NaN  51000.0  \n",
       "30985         NaN            NaN  51000.0  \n",
       "32355         NaN            NaN  51000.0  \n",
       "33680         NaN            NaN  51000.0  \n",
       "37582         NaN            NaN  51000.0  \n",
       "38051         NaN            NaN  51000.0  \n",
       "39563         NaN            NaN  51000.0  \n",
       "40302         NaN            NaN  51000.0  \n",
       "42788         NaN            NaN  51000.0  \n",
       "43353         NaN            NaN  51000.0  \n",
       "43857         NaN            NaN  51000.0  \n",
       "44635         NaN            NaN  51000.0  \n",
       "47363         NaN            NaN  51000.0  \n",
       "68150         NaN            NaN  51000.0  \n",
       "83981         NaN            NaN  51000.0  \n",
       "84985         NaN            NaN  51000.0  \n",
       "91770         NaN            NaN  51000.0  \n",
       "93546         NaN            NaN  51000.0  "
      ]
     },
     "execution_count": 48,
     "metadata": {},
     "output_type": "execute_result"
    }
   ],
   "source": [
    "df.loc[df['price'] == 51_000]"
   ]
  },
  {
   "cell_type": "code",
   "execution_count": 52,
   "id": "33bd35c6-97ed-4bc3-b07a-4fb2d5a1c584",
   "metadata": {
    "tags": []
   },
   "outputs": [
    {
     "name": "stdout",
     "output_type": "stream",
     "text": [
      "       status  bed  bath  acre_lot        city        state  zip_code  \\\n",
      "77   for_sale  NaN   NaN      0.21      Aguada  Puerto Rico     602.0   \n",
      "135  for_sale  3.0   2.0      0.08       Ponce  Puerto Rico     728.0   \n",
      "139  for_sale  5.0   3.0      7.46  Las Marias  Puerto Rico     670.0   \n",
      "140  for_sale  3.0   2.0      0.10       Lares  Puerto Rico     669.0   \n",
      "148  for_sale  3.0   2.0      0.05       Yauco  Puerto Rico     698.0   \n",
      "\n",
      "     house_size prev_sold_date     price  \n",
      "77          NaN            NaN   74000.0  \n",
      "135      1500.0            NaN  105000.0  \n",
      "139      5403.0            NaN  300000.0  \n",
      "140      4161.0            NaN  155000.0  \n",
      "148      1118.0            NaN  122500.0  \n"
     ]
    }
   ],
   "source": [
    "duplicated_rows = df[df.duplicated()]\n",
    "print(duplicated_rows.head())"
   ]
  },
  {
   "cell_type": "code",
   "execution_count": 136,
   "id": "3de9a72a-9087-41d1-afe5-b460c0874190",
   "metadata": {
    "tags": []
   },
   "outputs": [
    {
     "data": {
      "text/html": [
       "<div>\n",
       "<style scoped>\n",
       "    .dataframe tbody tr th:only-of-type {\n",
       "        vertical-align: middle;\n",
       "    }\n",
       "\n",
       "    .dataframe tbody tr th {\n",
       "        vertical-align: top;\n",
       "    }\n",
       "\n",
       "    .dataframe thead th {\n",
       "        text-align: right;\n",
       "    }\n",
       "</style>\n",
       "<table border=\"1\" class=\"dataframe\">\n",
       "  <thead>\n",
       "    <tr style=\"text-align: right;\">\n",
       "      <th></th>\n",
       "      <th>status</th>\n",
       "      <th>bed</th>\n",
       "      <th>bath</th>\n",
       "      <th>acre_lot</th>\n",
       "      <th>city</th>\n",
       "      <th>state</th>\n",
       "      <th>zip_code</th>\n",
       "      <th>house_size</th>\n",
       "      <th>prev_sold_date</th>\n",
       "      <th>price</th>\n",
       "    </tr>\n",
       "  </thead>\n",
       "  <tbody>\n",
       "    <tr>\n",
       "      <th>27841</th>\n",
       "      <td>for_sale</td>\n",
       "      <td>12.0</td>\n",
       "      <td>3.0</td>\n",
       "      <td>0.15</td>\n",
       "      <td>Springfield</td>\n",
       "      <td>Massachusetts</td>\n",
       "      <td>1105.0</td>\n",
       "      <td>3902.0</td>\n",
       "      <td>2014-12-24</td>\n",
       "      <td>369900.0</td>\n",
       "    </tr>\n",
       "    <tr>\n",
       "      <th>28093</th>\n",
       "      <td>for_sale</td>\n",
       "      <td>13.0</td>\n",
       "      <td>7.0</td>\n",
       "      <td>0.20</td>\n",
       "      <td>Adams</td>\n",
       "      <td>Massachusetts</td>\n",
       "      <td>1220.0</td>\n",
       "      <td>4233.0</td>\n",
       "      <td>2008-09-15</td>\n",
       "      <td>324900.0</td>\n",
       "    </tr>\n",
       "    <tr>\n",
       "      <th>28596</th>\n",
       "      <td>for_sale</td>\n",
       "      <td>14.0</td>\n",
       "      <td>15.0</td>\n",
       "      <td>2.40</td>\n",
       "      <td>Great Barrington</td>\n",
       "      <td>Massachusetts</td>\n",
       "      <td>1230.0</td>\n",
       "      <td>10302.0</td>\n",
       "      <td>2009-06-12</td>\n",
       "      <td>1390000.0</td>\n",
       "    </tr>\n",
       "    <tr>\n",
       "      <th>28895</th>\n",
       "      <td>for_sale</td>\n",
       "      <td>20.0</td>\n",
       "      <td>18.0</td>\n",
       "      <td>0.71</td>\n",
       "      <td>Pittsfield</td>\n",
       "      <td>Massachusetts</td>\n",
       "      <td>1201.0</td>\n",
       "      <td>15096.0</td>\n",
       "      <td>2010-11-17</td>\n",
       "      <td>239000.0</td>\n",
       "    </tr>\n",
       "    <tr>\n",
       "      <th>28908</th>\n",
       "      <td>for_sale</td>\n",
       "      <td>12.0</td>\n",
       "      <td>4.0</td>\n",
       "      <td>0.22</td>\n",
       "      <td>Pittsfield</td>\n",
       "      <td>Massachusetts</td>\n",
       "      <td>1201.0</td>\n",
       "      <td>4200.0</td>\n",
       "      <td>1993-02-04</td>\n",
       "      <td>184900.0</td>\n",
       "    </tr>\n",
       "    <tr>\n",
       "      <th>29067</th>\n",
       "      <td>for_sale</td>\n",
       "      <td>13.0</td>\n",
       "      <td>12.0</td>\n",
       "      <td>2.62</td>\n",
       "      <td>Norfolk</td>\n",
       "      <td>Connecticut</td>\n",
       "      <td>6058.0</td>\n",
       "      <td>5988.0</td>\n",
       "      <td>2017-08-30</td>\n",
       "      <td>875000.0</td>\n",
       "    </tr>\n",
       "    <tr>\n",
       "      <th>34687</th>\n",
       "      <td>for_sale</td>\n",
       "      <td>15.0</td>\n",
       "      <td>9.0</td>\n",
       "      <td>0.19</td>\n",
       "      <td>Worcester</td>\n",
       "      <td>Massachusetts</td>\n",
       "      <td>1604.0</td>\n",
       "      <td>14532.0</td>\n",
       "      <td>2004-04-27</td>\n",
       "      <td>1495000.0</td>\n",
       "    </tr>\n",
       "    <tr>\n",
       "      <th>34879</th>\n",
       "      <td>for_sale</td>\n",
       "      <td>12.0</td>\n",
       "      <td>2.0</td>\n",
       "      <td>0.14</td>\n",
       "      <td>Worcester</td>\n",
       "      <td>Massachusetts</td>\n",
       "      <td>1605.0</td>\n",
       "      <td>3160.0</td>\n",
       "      <td>2007-02-08</td>\n",
       "      <td>499000.0</td>\n",
       "    </tr>\n",
       "    <tr>\n",
       "      <th>47187</th>\n",
       "      <td>for_sale</td>\n",
       "      <td>12.0</td>\n",
       "      <td>7.0</td>\n",
       "      <td>0.24</td>\n",
       "      <td>East Hartford</td>\n",
       "      <td>Connecticut</td>\n",
       "      <td>6118.0</td>\n",
       "      <td>4766.0</td>\n",
       "      <td>1999-08-09</td>\n",
       "      <td>380000.0</td>\n",
       "    </tr>\n",
       "    <tr>\n",
       "      <th>47546</th>\n",
       "      <td>for_sale</td>\n",
       "      <td>13.0</td>\n",
       "      <td>3.0</td>\n",
       "      <td>0.24</td>\n",
       "      <td>Hartford</td>\n",
       "      <td>Connecticut</td>\n",
       "      <td>6105.0</td>\n",
       "      <td>4094.0</td>\n",
       "      <td>2012-10-23</td>\n",
       "      <td>450000.0</td>\n",
       "    </tr>\n",
       "    <tr>\n",
       "      <th>60884</th>\n",
       "      <td>for_sale</td>\n",
       "      <td>11.0</td>\n",
       "      <td>5.0</td>\n",
       "      <td>0.27</td>\n",
       "      <td>West Hartford</td>\n",
       "      <td>Connecticut</td>\n",
       "      <td>6119.0</td>\n",
       "      <td>5517.0</td>\n",
       "      <td>2007-05-31</td>\n",
       "      <td>575000.0</td>\n",
       "    </tr>\n",
       "    <tr>\n",
       "      <th>81766</th>\n",
       "      <td>for_sale</td>\n",
       "      <td>14.0</td>\n",
       "      <td>4.0</td>\n",
       "      <td>0.12</td>\n",
       "      <td>Woonsocket</td>\n",
       "      <td>Rhode Island</td>\n",
       "      <td>2895.0</td>\n",
       "      <td>5104.0</td>\n",
       "      <td>2017-03-30</td>\n",
       "      <td>450000.0</td>\n",
       "    </tr>\n",
       "    <tr>\n",
       "      <th>81781</th>\n",
       "      <td>for_sale</td>\n",
       "      <td>12.0</td>\n",
       "      <td>4.0</td>\n",
       "      <td>0.12</td>\n",
       "      <td>Woonsocket</td>\n",
       "      <td>Rhode Island</td>\n",
       "      <td>2895.0</td>\n",
       "      <td>6307.0</td>\n",
       "      <td>2018-03-15</td>\n",
       "      <td>399900.0</td>\n",
       "    </tr>\n",
       "    <tr>\n",
       "      <th>93833</th>\n",
       "      <td>for_sale</td>\n",
       "      <td>11.0</td>\n",
       "      <td>9.0</td>\n",
       "      <td>0.14</td>\n",
       "      <td>Pawtucket</td>\n",
       "      <td>Rhode Island</td>\n",
       "      <td>2860.0</td>\n",
       "      <td>6061.0</td>\n",
       "      <td>2005-11-14</td>\n",
       "      <td>660000.0</td>\n",
       "    </tr>\n",
       "    <tr>\n",
       "      <th>93984</th>\n",
       "      <td>for_sale</td>\n",
       "      <td>12.0</td>\n",
       "      <td>3.0</td>\n",
       "      <td>0.13</td>\n",
       "      <td>Providence</td>\n",
       "      <td>Rhode Island</td>\n",
       "      <td>2907.0</td>\n",
       "      <td>5922.0</td>\n",
       "      <td>2012-01-26</td>\n",
       "      <td>549900.0</td>\n",
       "    </tr>\n",
       "    <tr>\n",
       "      <th>94009</th>\n",
       "      <td>for_sale</td>\n",
       "      <td>12.0</td>\n",
       "      <td>6.0</td>\n",
       "      <td>0.15</td>\n",
       "      <td>Pawtucket</td>\n",
       "      <td>Rhode Island</td>\n",
       "      <td>2860.0</td>\n",
       "      <td>8340.0</td>\n",
       "      <td>2004-12-14</td>\n",
       "      <td>565000.0</td>\n",
       "    </tr>\n",
       "    <tr>\n",
       "      <th>94814</th>\n",
       "      <td>for_sale</td>\n",
       "      <td>13.0</td>\n",
       "      <td>5.0</td>\n",
       "      <td>0.30</td>\n",
       "      <td>Pawtucket</td>\n",
       "      <td>Rhode Island</td>\n",
       "      <td>2860.0</td>\n",
       "      <td>6976.0</td>\n",
       "      <td>2021-06-07</td>\n",
       "      <td>650000.0</td>\n",
       "    </tr>\n",
       "    <tr>\n",
       "      <th>95510</th>\n",
       "      <td>for_sale</td>\n",
       "      <td>12.0</td>\n",
       "      <td>6.0</td>\n",
       "      <td>0.06</td>\n",
       "      <td>Providence</td>\n",
       "      <td>Rhode Island</td>\n",
       "      <td>2906.0</td>\n",
       "      <td>4131.0</td>\n",
       "      <td>2017-12-12</td>\n",
       "      <td>1275000.0</td>\n",
       "    </tr>\n",
       "    <tr>\n",
       "      <th>101670</th>\n",
       "      <td>for_sale</td>\n",
       "      <td>12.0</td>\n",
       "      <td>5.0</td>\n",
       "      <td>0.07</td>\n",
       "      <td>Pawtucket</td>\n",
       "      <td>Rhode Island</td>\n",
       "      <td>2861.0</td>\n",
       "      <td>6184.0</td>\n",
       "      <td>2011-02-28</td>\n",
       "      <td>519900.0</td>\n",
       "    </tr>\n",
       "    <tr>\n",
       "      <th>101796</th>\n",
       "      <td>for_sale</td>\n",
       "      <td>11.0</td>\n",
       "      <td>4.0</td>\n",
       "      <td>0.10</td>\n",
       "      <td>Central Falls</td>\n",
       "      <td>Rhode Island</td>\n",
       "      <td>2863.0</td>\n",
       "      <td>5865.0</td>\n",
       "      <td>2019-06-20</td>\n",
       "      <td>429900.0</td>\n",
       "    </tr>\n",
       "    <tr>\n",
       "      <th>104908</th>\n",
       "      <td>for_sale</td>\n",
       "      <td>11.0</td>\n",
       "      <td>5.0</td>\n",
       "      <td>0.07</td>\n",
       "      <td>Boston</td>\n",
       "      <td>Massachusetts</td>\n",
       "      <td>2121.0</td>\n",
       "      <td>4650.0</td>\n",
       "      <td>1991-05-20</td>\n",
       "      <td>1650000.0</td>\n",
       "    </tr>\n",
       "    <tr>\n",
       "      <th>109189</th>\n",
       "      <td>for_sale</td>\n",
       "      <td>12.0</td>\n",
       "      <td>3.0</td>\n",
       "      <td>0.08</td>\n",
       "      <td>Boston</td>\n",
       "      <td>Massachusetts</td>\n",
       "      <td>2122.0</td>\n",
       "      <td>3720.0</td>\n",
       "      <td>2008-01-25</td>\n",
       "      <td>1299999.0</td>\n",
       "    </tr>\n",
       "    <tr>\n",
       "      <th>109320</th>\n",
       "      <td>for_sale</td>\n",
       "      <td>12.0</td>\n",
       "      <td>3.0</td>\n",
       "      <td>0.18</td>\n",
       "      <td>Boston</td>\n",
       "      <td>Massachusetts</td>\n",
       "      <td>2124.0</td>\n",
       "      <td>4464.0</td>\n",
       "      <td>2008-03-04</td>\n",
       "      <td>1500000.0</td>\n",
       "    </tr>\n",
       "    <tr>\n",
       "      <th>125632</th>\n",
       "      <td>for_sale</td>\n",
       "      <td>11.0</td>\n",
       "      <td>6.0</td>\n",
       "      <td>0.24</td>\n",
       "      <td>Quincy</td>\n",
       "      <td>Massachusetts</td>\n",
       "      <td>2169.0</td>\n",
       "      <td>3611.0</td>\n",
       "      <td>1989-09-29</td>\n",
       "      <td>995000.0</td>\n",
       "    </tr>\n",
       "    <tr>\n",
       "      <th>164442</th>\n",
       "      <td>for_sale</td>\n",
       "      <td>15.0</td>\n",
       "      <td>6.0</td>\n",
       "      <td>0.11</td>\n",
       "      <td>Fall River</td>\n",
       "      <td>Massachusetts</td>\n",
       "      <td>2720.0</td>\n",
       "      <td>5100.0</td>\n",
       "      <td>2005-09-16</td>\n",
       "      <td>799000.0</td>\n",
       "    </tr>\n",
       "    <tr>\n",
       "      <th>203008</th>\n",
       "      <td>for_sale</td>\n",
       "      <td>13.0</td>\n",
       "      <td>14.0</td>\n",
       "      <td>0.50</td>\n",
       "      <td>Dennis</td>\n",
       "      <td>Massachusetts</td>\n",
       "      <td>2638.0</td>\n",
       "      <td>6290.0</td>\n",
       "      <td>2004-04-02</td>\n",
       "      <td>1500000.0</td>\n",
       "    </tr>\n",
       "    <tr>\n",
       "      <th>204152</th>\n",
       "      <td>for_sale</td>\n",
       "      <td>12.0</td>\n",
       "      <td>6.0</td>\n",
       "      <td>0.08</td>\n",
       "      <td>New Bedford</td>\n",
       "      <td>Massachusetts</td>\n",
       "      <td>2744.0</td>\n",
       "      <td>4473.0</td>\n",
       "      <td>2001-08-24</td>\n",
       "      <td>499000.0</td>\n",
       "    </tr>\n",
       "  </tbody>\n",
       "</table>\n",
       "</div>"
      ],
      "text/plain": [
       "          status   bed  bath  acre_lot              city          state  \\\n",
       "27841   for_sale  12.0   3.0      0.15       Springfield  Massachusetts   \n",
       "28093   for_sale  13.0   7.0      0.20             Adams  Massachusetts   \n",
       "28596   for_sale  14.0  15.0      2.40  Great Barrington  Massachusetts   \n",
       "28895   for_sale  20.0  18.0      0.71        Pittsfield  Massachusetts   \n",
       "28908   for_sale  12.0   4.0      0.22        Pittsfield  Massachusetts   \n",
       "29067   for_sale  13.0  12.0      2.62           Norfolk    Connecticut   \n",
       "34687   for_sale  15.0   9.0      0.19         Worcester  Massachusetts   \n",
       "34879   for_sale  12.0   2.0      0.14         Worcester  Massachusetts   \n",
       "47187   for_sale  12.0   7.0      0.24     East Hartford    Connecticut   \n",
       "47546   for_sale  13.0   3.0      0.24          Hartford    Connecticut   \n",
       "60884   for_sale  11.0   5.0      0.27     West Hartford    Connecticut   \n",
       "81766   for_sale  14.0   4.0      0.12        Woonsocket   Rhode Island   \n",
       "81781   for_sale  12.0   4.0      0.12        Woonsocket   Rhode Island   \n",
       "93833   for_sale  11.0   9.0      0.14         Pawtucket   Rhode Island   \n",
       "93984   for_sale  12.0   3.0      0.13        Providence   Rhode Island   \n",
       "94009   for_sale  12.0   6.0      0.15         Pawtucket   Rhode Island   \n",
       "94814   for_sale  13.0   5.0      0.30         Pawtucket   Rhode Island   \n",
       "95510   for_sale  12.0   6.0      0.06        Providence   Rhode Island   \n",
       "101670  for_sale  12.0   5.0      0.07         Pawtucket   Rhode Island   \n",
       "101796  for_sale  11.0   4.0      0.10     Central Falls   Rhode Island   \n",
       "104908  for_sale  11.0   5.0      0.07            Boston  Massachusetts   \n",
       "109189  for_sale  12.0   3.0      0.08            Boston  Massachusetts   \n",
       "109320  for_sale  12.0   3.0      0.18            Boston  Massachusetts   \n",
       "125632  for_sale  11.0   6.0      0.24            Quincy  Massachusetts   \n",
       "164442  for_sale  15.0   6.0      0.11        Fall River  Massachusetts   \n",
       "203008  for_sale  13.0  14.0      0.50            Dennis  Massachusetts   \n",
       "204152  for_sale  12.0   6.0      0.08       New Bedford  Massachusetts   \n",
       "\n",
       "        zip_code  house_size prev_sold_date      price  \n",
       "27841     1105.0      3902.0     2014-12-24   369900.0  \n",
       "28093     1220.0      4233.0     2008-09-15   324900.0  \n",
       "28596     1230.0     10302.0     2009-06-12  1390000.0  \n",
       "28895     1201.0     15096.0     2010-11-17   239000.0  \n",
       "28908     1201.0      4200.0     1993-02-04   184900.0  \n",
       "29067     6058.0      5988.0     2017-08-30   875000.0  \n",
       "34687     1604.0     14532.0     2004-04-27  1495000.0  \n",
       "34879     1605.0      3160.0     2007-02-08   499000.0  \n",
       "47187     6118.0      4766.0     1999-08-09   380000.0  \n",
       "47546     6105.0      4094.0     2012-10-23   450000.0  \n",
       "60884     6119.0      5517.0     2007-05-31   575000.0  \n",
       "81766     2895.0      5104.0     2017-03-30   450000.0  \n",
       "81781     2895.0      6307.0     2018-03-15   399900.0  \n",
       "93833     2860.0      6061.0     2005-11-14   660000.0  \n",
       "93984     2907.0      5922.0     2012-01-26   549900.0  \n",
       "94009     2860.0      8340.0     2004-12-14   565000.0  \n",
       "94814     2860.0      6976.0     2021-06-07   650000.0  \n",
       "95510     2906.0      4131.0     2017-12-12  1275000.0  \n",
       "101670    2861.0      6184.0     2011-02-28   519900.0  \n",
       "101796    2863.0      5865.0     2019-06-20   429900.0  \n",
       "104908    2121.0      4650.0     1991-05-20  1650000.0  \n",
       "109189    2122.0      3720.0     2008-01-25  1299999.0  \n",
       "109320    2124.0      4464.0     2008-03-04  1500000.0  \n",
       "125632    2169.0      3611.0     1989-09-29   995000.0  \n",
       "164442    2720.0      5100.0     2005-09-16   799000.0  \n",
       "203008    2638.0      6290.0     2004-04-02  1500000.0  \n",
       "204152    2744.0      4473.0     2001-08-24   499000.0  "
      ]
     },
     "execution_count": 136,
     "metadata": {},
     "output_type": "execute_result"
    }
   ],
   "source": [
    "df.loc[df['bed']>10]"
   ]
  },
  {
   "cell_type": "code",
   "execution_count": 55,
   "id": "d9f23b0e-3859-4c85-86df-d1ebb214880f",
   "metadata": {
    "tags": []
   },
   "outputs": [],
   "source": [
    "df.drop_duplicates(inplace = True)"
   ]
  },
  {
   "cell_type": "code",
   "execution_count": 138,
   "id": "d3a7ae23-93af-435c-bb37-11af831d6066",
   "metadata": {
    "tags": []
   },
   "outputs": [
    {
     "data": {
      "text/plain": [
       "0"
      ]
     },
     "execution_count": 138,
     "metadata": {},
     "output_type": "execute_result"
    }
   ],
   "source": [
    "df['bed'].isnull().sum()"
   ]
  },
  {
   "cell_type": "code",
   "execution_count": 56,
   "id": "f2b754b9-a805-42a4-8b09-e0a7ed914a13",
   "metadata": {
    "tags": []
   },
   "outputs": [
    {
     "data": {
      "text/plain": [
       "(18877, 10)"
      ]
     },
     "execution_count": 56,
     "metadata": {},
     "output_type": "execute_result"
    }
   ],
   "source": [
    "df.shape"
   ]
  },
  {
   "cell_type": "code",
   "execution_count": 57,
   "id": "6516b6e8-3372-4e2b-95e4-19602b1e916b",
   "metadata": {
    "tags": []
   },
   "outputs": [],
   "source": [
    "df.dropna(inplace = True)"
   ]
  },
  {
   "cell_type": "code",
   "execution_count": 58,
   "id": "c9d3112a-2430-41f7-b816-f54ff5dad6fa",
   "metadata": {
    "tags": []
   },
   "outputs": [
    {
     "data": {
      "text/plain": [
       "(5958, 10)"
      ]
     },
     "execution_count": 58,
     "metadata": {},
     "output_type": "execute_result"
    }
   ],
   "source": [
    "df.shape"
   ]
  },
  {
   "cell_type": "code",
   "execution_count": 265,
   "id": "10e80f1b-8d67-4026-8970-4186b41da9d9",
   "metadata": {
    "tags": []
   },
   "outputs": [
    {
     "name": "stdout",
     "output_type": "stream",
     "text": [
      "Boston           226\n",
      "Providence       203\n",
      "Hartford         120\n",
      "Cranston         103\n",
      "West Hartford    101\n",
      "                ... \n",
      "Stamford           1\n",
      "Sullivan           1\n",
      "Fitzwilliam        1\n",
      "Millbury           1\n",
      "Dorado             1\n",
      "Name: city, Length: 520, dtype: int64\n"
     ]
    }
   ],
   "source": [
    "city_count = df['city'].value_counts()\n",
    "print(city_count)"
   ]
  },
  {
   "cell_type": "code",
   "execution_count": 267,
   "id": "8a73e69c-cb8e-4d28-a44e-711a2fee5c73",
   "metadata": {
    "tags": []
   },
   "outputs": [
    {
     "data": {
      "text/plain": [
       "Boston              226\n",
       "Providence          203\n",
       "Hartford            120\n",
       "Cranston            103\n",
       "West Hartford       101\n",
       "Manchester           94\n",
       "Pawtucket            88\n",
       "Torrington           83\n",
       "New Britain          82\n",
       "East Hartford        77\n",
       "Springfield          76\n",
       "Warwick              69\n",
       "Pittsfield           68\n",
       "Woonsocket           65\n",
       "Brockton             64\n",
       "Worcester            63\n",
       "Enfield              63\n",
       "North Providence     61\n",
       "Middletown           61\n",
       "East Providence      50\n",
       "Coventry             50\n",
       "Glastonbury          50\n",
       "Cumberland           49\n",
       "Newington            44\n",
       "Vernon               44\n",
       "Windham              43\n",
       "Wethersfield         42\n",
       "Johnston             42\n",
       "New Bedford          42\n",
       "Bloomfield           38\n",
       "Meriden              37\n",
       "Watertown            36\n",
       "Winchester           36\n",
       "Lynn                 36\n",
       "Simsbury             36\n",
       "Salem                36\n",
       "Plymouth             34\n",
       "Barrington           34\n",
       "Ellington            32\n",
       "Windsor              32\n",
       "South Windsor        31\n",
       "West Warwick         31\n",
       "Name: city, dtype: int64"
      ]
     },
     "execution_count": 267,
     "metadata": {},
     "output_type": "execute_result"
    }
   ],
   "source": [
    "top_cities_30 = city_count[city_count >30]\n",
    "top_cities_30"
   ]
  },
  {
   "cell_type": "code",
   "execution_count": null,
   "id": "76f10da1-0c9b-4000-9f17-840ce7eb5e9d",
   "metadata": {},
   "outputs": [],
   "source": []
  },
  {
   "cell_type": "code",
   "execution_count": 9,
   "id": "13b2fbaf-dd88-414b-a4e5-2a6b5a222a25",
   "metadata": {
    "tags": []
   },
   "outputs": [],
   "source": [
    "from sklearn.model_selection import train_test_split\n",
    "from sklearn.linear_model import LinearRegression"
   ]
  },
  {
   "cell_type": "markdown",
   "id": "f9392959-0db7-4bd5-91af-73ab5b0888aa",
   "metadata": {
    "tags": []
   },
   "source": [
    "This is when there will be 1 parameter\n",
    "X = df[['house_size']].values.reshape(-1,1)\n",
    "y = df['price'].values.reshape(-1,1)\n",
    "\n",
    "X_train, X_test, y_train, y_test = train_test_split(X, y, test_size = 0.20, random_state = 42)\n",
    "\n",
    "reg = LinearRegression()\n",
    "\n",
    "reg.fit(X_train, y_train)\n",
    "\n",
    "y_hat = reg.predict(X_test)"
   ]
  },
  {
   "cell_type": "markdown",
   "id": "961ea6d3-0442-45bf-81cf-bc4c4ce44868",
   "metadata": {},
   "source": [
    "By adjusting the text size I can better fit the mode. \n",
    "If I only have one prameter I need to reshape it .reshape(-1,1), if I have 2+ I can leave it as it is [[]],\n",
    "to call the function i need to assing it to value like result = reg.predict and then add parametres I want to base the prediction with (the parametres I can either include myself or find somewhere)"
   ]
  },
  {
   "cell_type": "code",
   "execution_count": 182,
   "id": "1f1cc6e0-dbfb-444a-bd4c-223148742e0b",
   "metadata": {
    "tags": []
   },
   "outputs": [],
   "source": [
    "X = df[['house_size', 'bed', 'bath']].values\n",
    "y = df['price'].values.reshape(-1,1)\n",
    "\n",
    "X_train, X_test, y_train, y_test = train_test_split(X, y, test_size = 0.20, random_state = 42)\n",
    "\n",
    "reg = LinearRegression()\n",
    "\n",
    "reg.fit(X_train, y_train)\n",
    "\n",
    "y_hat = reg.predict(X_test)"
   ]
  },
  {
   "cell_type": "markdown",
   "id": "4baa4a70-682b-402c-ae56-5574f70c88b3",
   "metadata": {
    "tags": []
   },
   "source": [
    "X = df['house_size'].values.reshape(-1,1)\n",
    "y = df['price'].values.reshape(-1,1)\n",
    "\n",
    "X_train, X_test, y_train, y_test = train_test_split(X, y, test_size = 0.20, random_state = 42)\n",
    "\n",
    "reg = LinearRegression()\n",
    "\n",
    "reg.fit(X_train, y_train)\n",
    "\n",
    "y_hat = reg.predict(X_test)"
   ]
  },
  {
   "cell_type": "code",
   "execution_count": 177,
   "id": "8e182615-6852-40d7-8ec4-ad6fe4092f31",
   "metadata": {
    "tags": []
   },
   "outputs": [
    {
     "name": "stdout",
     "output_type": "stream",
     "text": [
      " The predicted price for 1000 qft is 378280.7 USD\n"
     ]
    }
   ],
   "source": [
    "house_size = 1000\n",
    "bed = 3\n",
    "bath = 2\n",
    "\n",
    "predicted_price = reg.predict([[house_size, bed, bath]])[0][0].round(1)\n",
    "\n",
    "print (f\" The predicted price for {house_size} qft is {predicted_price} USD\")"
   ]
  },
  {
   "cell_type": "code",
   "execution_count": 66,
   "id": "05705b99-932b-4f6c-8558-4fb75e8f72f2",
   "metadata": {
    "tags": []
   },
   "outputs": [],
   "source": [
    "import seaborn as asns"
   ]
  },
  {
   "cell_type": "code",
   "execution_count": 78,
   "id": "d5a58b1b-e849-4b64-8a76-73bb83ba0878",
   "metadata": {
    "tags": []
   },
   "outputs": [
    {
     "data": {
      "image/png": "[encoded data removed]",
      "text/plain": [
       "<Figure size 640x480 with 1 Axes>"
      ]
     },
     "metadata": {},
     "output_type": "display_data"
    }
   ],
   "source": [
    "sns.scatterplot(data = df, y = 'price', x = 'house_size')\n",
    "plt.show()"
   ]
  },
  {
   "cell_type": "code",
   "execution_count": 81,
   "id": "1fee92e9-5b96-487c-8b0c-f48ae99ea96d",
   "metadata": {
    "tags": []
   },
   "outputs": [
    {
     "data": {
      "image/png": "[encoded data removed]",
      "text/plain": [
       "<Figure size 500x500 with 1 Axes>"
      ]
     },
     "metadata": {},
     "output_type": "display_data"
    }
   ],
   "source": [
    "sns.lmplot(data=df, x='house_size', y='price', line_kws={'color':'green'})\n",
    "plt.show()"
   ]
  },
  {
   "cell_type": "markdown",
   "id": "ba74817e-fc17-4f28-a162-7d42d0a8fab0",
   "metadata": {},
   "source": [
    "I need to find prices for all houses with house_size beteen 900 and 1100,\n",
    "also I need to find average price for this houses"
   ]
  },
  {
   "cell_type": "code",
   "execution_count": 88,
   "id": "632e13db-74d9-44e9-ac8a-ac9eab1ab463",
   "metadata": {
    "tags": []
   },
   "outputs": [
    {
     "data": {
      "text/plain": [
       "(5958, 10)"
      ]
     },
     "execution_count": 88,
     "metadata": {},
     "output_type": "execute_result"
    }
   ],
   "source": [
    "df.shape"
   ]
  },
  {
   "cell_type": "code",
   "execution_count": 118,
   "id": "ccbf7622-5251-42da-994d-3f6f62abd23c",
   "metadata": {
    "tags": []
   },
   "outputs": [],
   "source": [
    "houses = df.loc[(df['house_size']> 800) & (df['house_size'] <1200)] "
   ]
  },
  {
   "cell_type": "code",
   "execution_count": 132,
   "id": "e968ad41-6ad4-4ab6-b87a-db92e42e14f8",
   "metadata": {
    "tags": []
   },
   "outputs": [
    {
     "data": {
      "text/plain": [
       "house_size\n",
       "801.0     224900.000000\n",
       "802.0     294999.500000\n",
       "803.0     829000.000000\n",
       "804.0     273980.000000\n",
       "805.0     399999.000000\n",
       "              ...      \n",
       "1194.0    248299.666667\n",
       "1196.0    308957.142857\n",
       "1197.0    292966.666667\n",
       "1198.0    398133.333333\n",
       "1199.0    342475.000000\n",
       "Name: price, Length: 272, dtype: float64"
      ]
     },
     "execution_count": 132,
     "metadata": {},
     "output_type": "execute_result"
    }
   ],
   "source": [
    "houses.groupby('house_size')['price'].mean()"
   ]
  },
  {
   "cell_type": "code",
   "execution_count": 120,
   "id": "2430db17-b459-4927-bcfd-583c2f11f846",
   "metadata": {
    "tags": []
   },
   "outputs": [
    {
     "data": {
      "text/plain": [
       "348278.19574036513"
      ]
     },
     "execution_count": 120,
     "metadata": {},
     "output_type": "execute_result"
    }
   ],
   "source": [
    "average_price = houses['price'].mean()\n",
    "average_price"
   ]
  },
  {
   "cell_type": "code",
   "execution_count": 123,
   "id": "32bcea70-0afa-4699-b81f-b51776afeeab",
   "metadata": {
    "tags": []
   },
   "outputs": [
    {
     "data": {
      "text/plain": [
       "(5958, 10)"
      ]
     },
     "execution_count": 123,
     "metadata": {},
     "output_type": "execute_result"
    }
   ],
   "source": [
    "df.shape"
   ]
  },
  {
   "cell_type": "code",
   "execution_count": 124,
   "id": "dd220045-c62b-4fa3-baa9-29ad8a3cb034",
   "metadata": {
    "tags": []
   },
   "outputs": [
    {
     "data": {
      "text/plain": [
       "Index(['status', 'bed', 'bath', 'acre_lot', 'city', 'state', 'zip_code',\n",
       "       'house_size', 'prev_sold_date', 'price'],\n",
       "      dtype='object')"
      ]
     },
     "execution_count": 124,
     "metadata": {},
     "output_type": "execute_result"
    }
   ],
   "source": [
    "df.columns"
   ]
  },
  {
   "cell_type": "code",
   "execution_count": 121,
   "id": "65c824c2-cf7d-4829-8e62-cd7219f04787",
   "metadata": {
    "tags": []
   },
   "outputs": [],
   "source": [
    "import numpy as np"
   ]
  },
  {
   "cell_type": "code",
   "execution_count": 122,
   "id": "37a30dad-dc94-4060-839f-c32d543e094c",
   "metadata": {
    "tags": []
   },
   "outputs": [],
   "source": [
    "def cost_function(X, y, theta):\n",
    "    m = len(y)\n",
    "    predictions = X.dot(theta)\n",
    "    errors = predictions - y\n",
    "    cost = (1/(2*m)) * np.sum(errors**2)\n",
    "    return cost\n"
   ]
  },
  {
   "cell_type": "code",
   "execution_count": 239,
   "id": "11374c27-2692-43c6-8772-80fee3941b27",
   "metadata": {
    "tags": []
   },
   "outputs": [
    {
     "name": "stdout",
     "output_type": "stream",
     "text": [
      "Initial cost: 184963664959.37714\n"
     ]
    }
   ],
   "source": [
    "X = df[['house_size', 'bed', 'bath']].values  # reshape to 2D array\n",
    "y = df['price'].values  # target variable\n",
    "m = len(y)  # number of training examples\n",
    "\n",
    "# Add a column of ones to X for the bias term\n",
    "X = np.hstack((np.ones((m, 1)), X))\n",
    "\n",
    "n = X.shape[1]  # number of features (including the bias term)\n",
    "theta = np.zeros(n)  # initialize theta with zeros\n",
    "\n",
    "cost = cost_function(X, y, theta)\n",
    "print(f\"Initial cost: {cost}\")\n"
   ]
  },
  {
   "cell_type": "code",
   "execution_count": 126,
   "id": "27be4d5c-a301-4dbe-a6c4-d446e3ca4a31",
   "metadata": {
    "tags": []
   },
   "outputs": [],
   "source": [
    "def gradient_descent(X, y, theta, alpha, num_iters):\n",
    "    m = len(y)\n",
    "    J_history = np.zeros(num_iters)\n",
    "\n",
    "    for i in range(num_iters):\n",
    "        predictions = X.dot(theta)\n",
    "        errors = predictions - y\n",
    "        delta = (1/m) * (X.T.dot(errors))\n",
    "        theta = theta - alpha * delta\n",
    "        J_history[i] = cost_function(X, y, theta)\n",
    "\n",
    "    return theta, J_history\n"
   ]
  },
  {
   "cell_type": "code",
   "execution_count": 179,
   "id": "efcb2ba6-1d15-41ca-8ebe-8d412125d79f",
   "metadata": {
    "tags": []
   },
   "outputs": [
    {
     "name": "stdout",
     "output_type": "stream",
     "text": [
      "Train cost: 71178854605.87445\n",
      "Test cost: 72048757404.40863\n"
     ]
    }
   ],
   "source": [
    "from sklearn.metrics import mean_squared_error\n",
    "\n",
    "y_hat_train = reg.predict(X_train)\n",
    "train_cost = mean_squared_error(y_train, y_hat_train)\n",
    "\n",
    "y_hat_test = reg.predict(X_test)\n",
    "test_cost = mean_squared_error(y_test, y_hat_test)\n",
    "\n",
    "print(f\"Train cost: {train_cost}\")\n",
    "print(f\"Test cost: {test_cost}\")\n"
   ]
  },
  {
   "cell_type": "code",
   "execution_count": 178,
   "id": "35eb3b5a-b8bf-4a6d-a346-6ec7b6fb657b",
   "metadata": {
    "tags": []
   },
   "outputs": [
    {
     "name": "stdout",
     "output_type": "stream",
     "text": [
      "Train R^2: 0.3364924475960104\n",
      "Test R^2: 0.2913100694206069\n"
     ]
    }
   ],
   "source": [
    "from sklearn.metrics import r2_score\n",
    "\n",
    "y_hat_train = reg.predict(X_train)\n",
    "train_r2 = r2_score(y_train, y_hat_train)\n",
    "\n",
    "y_hat_test = reg.predict(X_test)\n",
    "test_r2 = r2_score(y_test, y_hat_test)\n",
    "\n",
    "print(f\"Train R^2: {train_r2}\")\n",
    "print(f\"Test R^2: {test_r2}\")\n"
   ]
  },
  {
   "cell_type": "code",
   "execution_count": 188,
   "id": "619d4e62-efe3-4220-9f54-eaa124ac5c85",
   "metadata": {
    "tags": []
   },
   "outputs": [],
   "source": [
    "wat = np.array([1,3,4,5])"
   ]
  },
  {
   "cell_type": "code",
   "execution_count": 189,
   "id": "bfa7bf4f-34b6-4b5e-9b38-772abc453887",
   "metadata": {
    "tags": []
   },
   "outputs": [
    {
     "data": {
      "text/plain": [
       "array([1, 3, 4, 5])"
      ]
     },
     "execution_count": 189,
     "metadata": {},
     "output_type": "execute_result"
    }
   ],
   "source": [
    "wat"
   ]
  },
  {
   "cell_type": "code",
   "execution_count": 193,
   "id": "e2f3f48f-a93f-422d-a743-bc71d441bb9c",
   "metadata": {
    "tags": []
   },
   "outputs": [],
   "source": [
    "df_test.rename(columns = {'prev_sold_date': 'sold_date'}, inplace = True)"
   ]
  },
  {
   "cell_type": "code",
   "execution_count": 209,
   "id": "65579b4b-2c4a-428e-b6d2-21b9544737de",
   "metadata": {
    "tags": []
   },
   "outputs": [
    {
     "data": {
      "text/html": [
       "<div>\n",
       "<style scoped>\n",
       "    .dataframe tbody tr th:only-of-type {\n",
       "        vertical-align: middle;\n",
       "    }\n",
       "\n",
       "    .dataframe tbody tr th {\n",
       "        vertical-align: top;\n",
       "    }\n",
       "\n",
       "    .dataframe thead th {\n",
       "        text-align: right;\n",
       "    }\n",
       "</style>\n",
       "<table border=\"1\" class=\"dataframe\">\n",
       "  <thead>\n",
       "    <tr style=\"text-align: right;\">\n",
       "      <th></th>\n",
       "      <th>status</th>\n",
       "      <th>bed</th>\n",
       "      <th>bath</th>\n",
       "      <th>acre_lot</th>\n",
       "      <th>city</th>\n",
       "      <th>state</th>\n",
       "      <th>zip_code</th>\n",
       "      <th>house_size</th>\n",
       "      <th>sold_date</th>\n",
       "      <th>price</th>\n",
       "    </tr>\n",
       "  </thead>\n",
       "  <tbody>\n",
       "    <tr>\n",
       "      <th>1752</th>\n",
       "      <td>for_sale</td>\n",
       "      <td>3.0</td>\n",
       "      <td>1.0</td>\n",
       "      <td>0.04</td>\n",
       "      <td>Manati</td>\n",
       "      <td>Puerto Rico</td>\n",
       "      <td>674.0</td>\n",
       "      <td>595.0</td>\n",
       "      <td>NaN</td>\n",
       "      <td>19900.0</td>\n",
       "    </tr>\n",
       "    <tr>\n",
       "      <th>1963</th>\n",
       "      <td>for_sale</td>\n",
       "      <td>3.0</td>\n",
       "      <td>1.0</td>\n",
       "      <td>0.04</td>\n",
       "      <td>Manati</td>\n",
       "      <td>Puerto Rico</td>\n",
       "      <td>674.0</td>\n",
       "      <td>595.0</td>\n",
       "      <td>NaN</td>\n",
       "      <td>19900.0</td>\n",
       "    </tr>\n",
       "    <tr>\n",
       "      <th>2913</th>\n",
       "      <td>for_sale</td>\n",
       "      <td>3.0</td>\n",
       "      <td>1.0</td>\n",
       "      <td>0.04</td>\n",
       "      <td>Manati</td>\n",
       "      <td>Puerto Rico</td>\n",
       "      <td>674.0</td>\n",
       "      <td>595.0</td>\n",
       "      <td>NaN</td>\n",
       "      <td>19900.0</td>\n",
       "    </tr>\n",
       "    <tr>\n",
       "      <th>3305</th>\n",
       "      <td>for_sale</td>\n",
       "      <td>3.0</td>\n",
       "      <td>1.0</td>\n",
       "      <td>0.04</td>\n",
       "      <td>Manati</td>\n",
       "      <td>Puerto Rico</td>\n",
       "      <td>674.0</td>\n",
       "      <td>595.0</td>\n",
       "      <td>NaN</td>\n",
       "      <td>19900.0</td>\n",
       "    </tr>\n",
       "    <tr>\n",
       "      <th>3760</th>\n",
       "      <td>for_sale</td>\n",
       "      <td>3.0</td>\n",
       "      <td>1.0</td>\n",
       "      <td>0.04</td>\n",
       "      <td>Manati</td>\n",
       "      <td>Puerto Rico</td>\n",
       "      <td>674.0</td>\n",
       "      <td>595.0</td>\n",
       "      <td>NaN</td>\n",
       "      <td>19900.0</td>\n",
       "    </tr>\n",
       "    <tr>\n",
       "      <th>...</th>\n",
       "      <td>...</td>\n",
       "      <td>...</td>\n",
       "      <td>...</td>\n",
       "      <td>...</td>\n",
       "      <td>...</td>\n",
       "      <td>...</td>\n",
       "      <td>...</td>\n",
       "      <td>...</td>\n",
       "      <td>...</td>\n",
       "      <td>...</td>\n",
       "    </tr>\n",
       "    <tr>\n",
       "      <th>200403</th>\n",
       "      <td>for_sale</td>\n",
       "      <td>NaN</td>\n",
       "      <td>2.0</td>\n",
       "      <td>1.92</td>\n",
       "      <td>Wareham</td>\n",
       "      <td>Massachusetts</td>\n",
       "      <td>2571.0</td>\n",
       "      <td>2716.0</td>\n",
       "      <td>NaN</td>\n",
       "      <td>10000.0</td>\n",
       "    </tr>\n",
       "    <tr>\n",
       "      <th>200706</th>\n",
       "      <td>for_sale</td>\n",
       "      <td>NaN</td>\n",
       "      <td>2.0</td>\n",
       "      <td>1.92</td>\n",
       "      <td>Wareham</td>\n",
       "      <td>Massachusetts</td>\n",
       "      <td>2571.0</td>\n",
       "      <td>2716.0</td>\n",
       "      <td>NaN</td>\n",
       "      <td>10000.0</td>\n",
       "    </tr>\n",
       "    <tr>\n",
       "      <th>201710</th>\n",
       "      <td>for_sale</td>\n",
       "      <td>NaN</td>\n",
       "      <td>2.0</td>\n",
       "      <td>1.92</td>\n",
       "      <td>Wareham</td>\n",
       "      <td>Massachusetts</td>\n",
       "      <td>2571.0</td>\n",
       "      <td>2716.0</td>\n",
       "      <td>NaN</td>\n",
       "      <td>10000.0</td>\n",
       "    </tr>\n",
       "    <tr>\n",
       "      <th>202697</th>\n",
       "      <td>for_sale</td>\n",
       "      <td>NaN</td>\n",
       "      <td>2.0</td>\n",
       "      <td>1.92</td>\n",
       "      <td>Wareham</td>\n",
       "      <td>Massachusetts</td>\n",
       "      <td>2571.0</td>\n",
       "      <td>2716.0</td>\n",
       "      <td>NaN</td>\n",
       "      <td>10000.0</td>\n",
       "    </tr>\n",
       "    <tr>\n",
       "      <th>204396</th>\n",
       "      <td>for_sale</td>\n",
       "      <td>NaN</td>\n",
       "      <td>2.0</td>\n",
       "      <td>1.92</td>\n",
       "      <td>Wareham</td>\n",
       "      <td>Massachusetts</td>\n",
       "      <td>2571.0</td>\n",
       "      <td>2716.0</td>\n",
       "      <td>NaN</td>\n",
       "      <td>10000.0</td>\n",
       "    </tr>\n",
       "  </tbody>\n",
       "</table>\n",
       "<p>76 rows × 10 columns</p>\n",
       "</div>"
      ],
      "text/plain": [
       "          status  bed  bath  acre_lot     city          state  zip_code  \\\n",
       "1752    for_sale  3.0   1.0      0.04   Manati    Puerto Rico     674.0   \n",
       "1963    for_sale  3.0   1.0      0.04   Manati    Puerto Rico     674.0   \n",
       "2913    for_sale  3.0   1.0      0.04   Manati    Puerto Rico     674.0   \n",
       "3305    for_sale  3.0   1.0      0.04   Manati    Puerto Rico     674.0   \n",
       "3760    for_sale  3.0   1.0      0.04   Manati    Puerto Rico     674.0   \n",
       "...          ...  ...   ...       ...      ...            ...       ...   \n",
       "200403  for_sale  NaN   2.0      1.92  Wareham  Massachusetts    2571.0   \n",
       "200706  for_sale  NaN   2.0      1.92  Wareham  Massachusetts    2571.0   \n",
       "201710  for_sale  NaN   2.0      1.92  Wareham  Massachusetts    2571.0   \n",
       "202697  for_sale  NaN   2.0      1.92  Wareham  Massachusetts    2571.0   \n",
       "204396  for_sale  NaN   2.0      1.92  Wareham  Massachusetts    2571.0   \n",
       "\n",
       "        house_size sold_date    price  \n",
       "1752         595.0       NaN  19900.0  \n",
       "1963         595.0       NaN  19900.0  \n",
       "2913         595.0       NaN  19900.0  \n",
       "3305         595.0       NaN  19900.0  \n",
       "3760         595.0       NaN  19900.0  \n",
       "...            ...       ...      ...  \n",
       "200403      2716.0       NaN  10000.0  \n",
       "200706      2716.0       NaN  10000.0  \n",
       "201710      2716.0       NaN  10000.0  \n",
       "202697      2716.0       NaN  10000.0  \n",
       "204396      2716.0       NaN  10000.0  \n",
       "\n",
       "[76 rows x 10 columns]"
      ]
     },
     "execution_count": 209,
     "metadata": {},
     "output_type": "execute_result"
    }
   ],
   "source": [
    "df_test.loc[(df_test['price']<20_000)&(df_test['house_size'].notnull())]"
   ]
  },
  {
   "cell_type": "code",
   "execution_count": 218,
   "id": "0055c143-9ae0-4e03-aa39-aeed436b3420",
   "metadata": {
    "tags": []
   },
   "outputs": [
    {
     "data": {
      "text/html": [
       "<div>\n",
       "<style scoped>\n",
       "    .dataframe tbody tr th:only-of-type {\n",
       "        vertical-align: middle;\n",
       "    }\n",
       "\n",
       "    .dataframe tbody tr th {\n",
       "        vertical-align: top;\n",
       "    }\n",
       "\n",
       "    .dataframe thead th {\n",
       "        text-align: right;\n",
       "    }\n",
       "</style>\n",
       "<table border=\"1\" class=\"dataframe\">\n",
       "  <thead>\n",
       "    <tr style=\"text-align: right;\">\n",
       "      <th></th>\n",
       "      <th>status</th>\n",
       "      <th>bed</th>\n",
       "      <th>bath</th>\n",
       "      <th>acre_lot</th>\n",
       "      <th>city</th>\n",
       "      <th>state</th>\n",
       "      <th>zip_code</th>\n",
       "      <th>house_size</th>\n",
       "      <th>sold_date</th>\n",
       "      <th>price</th>\n",
       "    </tr>\n",
       "  </thead>\n",
       "  <tbody>\n",
       "    <tr>\n",
       "      <th>77</th>\n",
       "      <td>for_sale</td>\n",
       "      <td>NaN</td>\n",
       "      <td>NaN</td>\n",
       "      <td>0.21</td>\n",
       "      <td>Aguada</td>\n",
       "      <td>Puerto Rico</td>\n",
       "      <td>602.0</td>\n",
       "      <td>NaN</td>\n",
       "      <td>NaN</td>\n",
       "      <td>74000.0</td>\n",
       "    </tr>\n",
       "    <tr>\n",
       "      <th>135</th>\n",
       "      <td>for_sale</td>\n",
       "      <td>3.0</td>\n",
       "      <td>2.0</td>\n",
       "      <td>0.08</td>\n",
       "      <td>Ponce</td>\n",
       "      <td>Puerto Rico</td>\n",
       "      <td>728.0</td>\n",
       "      <td>1500.0</td>\n",
       "      <td>NaN</td>\n",
       "      <td>105000.0</td>\n",
       "    </tr>\n",
       "    <tr>\n",
       "      <th>139</th>\n",
       "      <td>for_sale</td>\n",
       "      <td>5.0</td>\n",
       "      <td>3.0</td>\n",
       "      <td>7.46</td>\n",
       "      <td>Las Marias</td>\n",
       "      <td>Puerto Rico</td>\n",
       "      <td>670.0</td>\n",
       "      <td>5403.0</td>\n",
       "      <td>NaN</td>\n",
       "      <td>300000.0</td>\n",
       "    </tr>\n",
       "    <tr>\n",
       "      <th>140</th>\n",
       "      <td>for_sale</td>\n",
       "      <td>3.0</td>\n",
       "      <td>2.0</td>\n",
       "      <td>0.10</td>\n",
       "      <td>Lares</td>\n",
       "      <td>Puerto Rico</td>\n",
       "      <td>669.0</td>\n",
       "      <td>4161.0</td>\n",
       "      <td>NaN</td>\n",
       "      <td>155000.0</td>\n",
       "    </tr>\n",
       "    <tr>\n",
       "      <th>148</th>\n",
       "      <td>for_sale</td>\n",
       "      <td>3.0</td>\n",
       "      <td>2.0</td>\n",
       "      <td>0.05</td>\n",
       "      <td>Yauco</td>\n",
       "      <td>Puerto Rico</td>\n",
       "      <td>698.0</td>\n",
       "      <td>1118.0</td>\n",
       "      <td>NaN</td>\n",
       "      <td>122500.0</td>\n",
       "    </tr>\n",
       "    <tr>\n",
       "      <th>...</th>\n",
       "      <td>...</td>\n",
       "      <td>...</td>\n",
       "      <td>...</td>\n",
       "      <td>...</td>\n",
       "      <td>...</td>\n",
       "      <td>...</td>\n",
       "      <td>...</td>\n",
       "      <td>...</td>\n",
       "      <td>...</td>\n",
       "      <td>...</td>\n",
       "    </tr>\n",
       "    <tr>\n",
       "      <th>205995</th>\n",
       "      <td>for_sale</td>\n",
       "      <td>2.0</td>\n",
       "      <td>1.0</td>\n",
       "      <td>0.17</td>\n",
       "      <td>South Yarmouth</td>\n",
       "      <td>Massachusetts</td>\n",
       "      <td>2664.0</td>\n",
       "      <td>848.0</td>\n",
       "      <td>2009-05-01</td>\n",
       "      <td>439000.0</td>\n",
       "    </tr>\n",
       "    <tr>\n",
       "      <th>205996</th>\n",
       "      <td>for_sale</td>\n",
       "      <td>2.0</td>\n",
       "      <td>2.0</td>\n",
       "      <td>NaN</td>\n",
       "      <td>Brewster</td>\n",
       "      <td>Massachusetts</td>\n",
       "      <td>2631.0</td>\n",
       "      <td>948.0</td>\n",
       "      <td>2020-10-09</td>\n",
       "      <td>385000.0</td>\n",
       "    </tr>\n",
       "    <tr>\n",
       "      <th>205997</th>\n",
       "      <td>for_sale</td>\n",
       "      <td>2.0</td>\n",
       "      <td>1.0</td>\n",
       "      <td>0.23</td>\n",
       "      <td>South Yarmouth</td>\n",
       "      <td>Massachusetts</td>\n",
       "      <td>2664.0</td>\n",
       "      <td>864.0</td>\n",
       "      <td>2003-09-18</td>\n",
       "      <td>479900.0</td>\n",
       "    </tr>\n",
       "    <tr>\n",
       "      <th>205998</th>\n",
       "      <td>for_sale</td>\n",
       "      <td>2.0</td>\n",
       "      <td>3.0</td>\n",
       "      <td>0.23</td>\n",
       "      <td>Chatham</td>\n",
       "      <td>Massachusetts</td>\n",
       "      <td>2633.0</td>\n",
       "      <td>1660.0</td>\n",
       "      <td>NaN</td>\n",
       "      <td>1299000.0</td>\n",
       "    </tr>\n",
       "    <tr>\n",
       "      <th>205999</th>\n",
       "      <td>for_sale</td>\n",
       "      <td>4.0</td>\n",
       "      <td>4.0</td>\n",
       "      <td>0.91</td>\n",
       "      <td>Chatham</td>\n",
       "      <td>Massachusetts</td>\n",
       "      <td>2633.0</td>\n",
       "      <td>3563.0</td>\n",
       "      <td>NaN</td>\n",
       "      <td>7800000.0</td>\n",
       "    </tr>\n",
       "  </tbody>\n",
       "</table>\n",
       "<p>184964 rows × 10 columns</p>\n",
       "</div>"
      ],
      "text/plain": [
       "          status  bed  bath  acre_lot            city          state  \\\n",
       "77      for_sale  NaN   NaN      0.21          Aguada    Puerto Rico   \n",
       "135     for_sale  3.0   2.0      0.08           Ponce    Puerto Rico   \n",
       "139     for_sale  5.0   3.0      7.46      Las Marias    Puerto Rico   \n",
       "140     for_sale  3.0   2.0      0.10           Lares    Puerto Rico   \n",
       "148     for_sale  3.0   2.0      0.05           Yauco    Puerto Rico   \n",
       "...          ...  ...   ...       ...             ...            ...   \n",
       "205995  for_sale  2.0   1.0      0.17  South Yarmouth  Massachusetts   \n",
       "205996  for_sale  2.0   2.0       NaN        Brewster  Massachusetts   \n",
       "205997  for_sale  2.0   1.0      0.23  South Yarmouth  Massachusetts   \n",
       "205998  for_sale  2.0   3.0      0.23         Chatham  Massachusetts   \n",
       "205999  for_sale  4.0   4.0      0.91         Chatham  Massachusetts   \n",
       "\n",
       "        zip_code  house_size   sold_date      price  \n",
       "77         602.0         NaN         NaN    74000.0  \n",
       "135        728.0      1500.0         NaN   105000.0  \n",
       "139        670.0      5403.0         NaN   300000.0  \n",
       "140        669.0      4161.0         NaN   155000.0  \n",
       "148        698.0      1118.0         NaN   122500.0  \n",
       "...          ...         ...         ...        ...  \n",
       "205995    2664.0       848.0  2009-05-01   439000.0  \n",
       "205996    2631.0       948.0  2020-10-09   385000.0  \n",
       "205997    2664.0       864.0  2003-09-18   479900.0  \n",
       "205998    2633.0      1660.0         NaN  1299000.0  \n",
       "205999    2633.0      3563.0         NaN  7800000.0  \n",
       "\n",
       "[184964 rows x 10 columns]"
      ]
     },
     "execution_count": 218,
     "metadata": {},
     "output_type": "execute_result"
    }
   ],
   "source": [
    "df_test.loc[df_test.duplicated]"
   ]
  },
  {
   "cell_type": "code",
   "execution_count": 216,
   "id": "a9d4d09c-d450-4c6f-9116-616857270ae7",
   "metadata": {
    "tags": []
   },
   "outputs": [
    {
     "data": {
      "text/plain": [
       "<bound method DataFrame.duplicated of           status  bed  bath  acre_lot            city          state  \\\n",
       "0       for_sale  3.0   2.0      0.12        Adjuntas    Puerto Rico   \n",
       "1       for_sale  4.0   2.0      0.08        Adjuntas    Puerto Rico   \n",
       "2       for_sale  2.0   1.0      0.15      Juana Diaz    Puerto Rico   \n",
       "3       for_sale  4.0   2.0      0.10           Ponce    Puerto Rico   \n",
       "4       for_sale  6.0   2.0      0.05        Mayaguez    Puerto Rico   \n",
       "...          ...  ...   ...       ...             ...            ...   \n",
       "205995  for_sale  2.0   1.0      0.17  South Yarmouth  Massachusetts   \n",
       "205996  for_sale  2.0   2.0       NaN        Brewster  Massachusetts   \n",
       "205997  for_sale  2.0   1.0      0.23  South Yarmouth  Massachusetts   \n",
       "205998  for_sale  2.0   3.0      0.23         Chatham  Massachusetts   \n",
       "205999  for_sale  4.0   4.0      0.91         Chatham  Massachusetts   \n",
       "\n",
       "        zip_code  house_size   sold_date      price  \n",
       "0          601.0       920.0         NaN   105000.0  \n",
       "1          601.0      1527.0         NaN    80000.0  \n",
       "2          795.0       748.0         NaN    67000.0  \n",
       "3          731.0      1800.0         NaN   145000.0  \n",
       "4          680.0         NaN         NaN    65000.0  \n",
       "...          ...         ...         ...        ...  \n",
       "205995    2664.0       848.0  2009-05-01   439000.0  \n",
       "205996    2631.0       948.0  2020-10-09   385000.0  \n",
       "205997    2664.0       864.0  2003-09-18   479900.0  \n",
       "205998    2633.0      1660.0         NaN  1299000.0  \n",
       "205999    2633.0      3563.0         NaN  7800000.0  \n",
       "\n",
       "[206000 rows x 10 columns]>"
      ]
     },
     "execution_count": 216,
     "metadata": {},
     "output_type": "execute_result"
    }
   ],
   "source": [
    "df_test.duplicated"
   ]
  },
  {
   "cell_type": "code",
   "execution_count": 221,
   "id": "a616d698-7c66-4209-873e-e4900008ecc2",
   "metadata": {
    "tags": []
   },
   "outputs": [],
   "source": [
    "duplicated = df_test[df_test.duplicated()]"
   ]
  },
  {
   "cell_type": "code",
   "execution_count": 223,
   "id": "eabfeca2-a8d8-4005-8959-53b42c93f3e0",
   "metadata": {
    "tags": []
   },
   "outputs": [
    {
     "name": "stdout",
     "output_type": "stream",
     "text": [
      "       status  bed  bath  acre_lot           city        state  zip_code  \\\n",
      "77   for_sale  NaN   NaN      0.21         Aguada  Puerto Rico     602.0   \n",
      "135  for_sale  3.0   2.0      0.08          Ponce  Puerto Rico     728.0   \n",
      "139  for_sale  5.0   3.0      7.46     Las Marias  Puerto Rico     670.0   \n",
      "140  for_sale  3.0   2.0      0.10          Lares  Puerto Rico     669.0   \n",
      "148  for_sale  3.0   2.0      0.05          Yauco  Puerto Rico     698.0   \n",
      "149  for_sale  3.0   2.0      3.88  San Sebastian  Puerto Rico     685.0   \n",
      "150  for_sale  4.0   4.0      0.22       Mayaguez  Puerto Rico     680.0   \n",
      "161  for_sale  9.0   7.0      0.46       Mayaguez  Puerto Rico     680.0   \n",
      "167  for_sale  NaN   NaN      0.99           Moca  Puerto Rico     676.0   \n",
      "175  for_sale  6.0   3.0      0.25         Anasco  Puerto Rico     610.0   \n",
      "179  for_sale  NaN   NaN      0.25         Anasco  Puerto Rico     610.0   \n",
      "181  for_sale  3.0   1.0       NaN       Mayaguez  Puerto Rico     680.0   \n",
      "182  for_sale  3.0   2.0     13.39        Isabela  Puerto Rico     662.0   \n",
      "183  for_sale  3.0   2.0      0.10          Lares  Puerto Rico     669.0   \n",
      "184  for_sale  8.0   5.0      0.09    Hormigueros  Puerto Rico     660.0   \n",
      "\n",
      "     house_size sold_date     price  \n",
      "77          NaN       NaN   74000.0  \n",
      "135      1500.0       NaN  105000.0  \n",
      "139      5403.0       NaN  300000.0  \n",
      "140      4161.0       NaN  155000.0  \n",
      "148      1118.0       NaN  122500.0  \n",
      "149      4000.0       NaN  575000.0  \n",
      "150      3450.0       NaN  235000.0  \n",
      "161      3709.0       NaN  650000.0  \n",
      "167     43082.0       NaN  400000.0  \n",
      "175      1230.0       NaN  140000.0  \n",
      "179         NaN       NaN   79000.0  \n",
      "181       982.0       NaN   46900.0  \n",
      "182      1106.0       NaN   89000.0  \n",
      "183      4161.0       NaN  155000.0  \n",
      "184      2000.0       NaN  125000.0  \n"
     ]
    }
   ],
   "source": [
    "print(duplicated.head(15))"
   ]
  },
  {
   "cell_type": "code",
   "execution_count": 225,
   "id": "95a09a84-4a02-4391-97e1-d1461c5fddc9",
   "metadata": {
    "tags": []
   },
   "outputs": [
    {
     "data": {
      "text/html": [
       "<div>\n",
       "<style scoped>\n",
       "    .dataframe tbody tr th:only-of-type {\n",
       "        vertical-align: middle;\n",
       "    }\n",
       "\n",
       "    .dataframe tbody tr th {\n",
       "        vertical-align: top;\n",
       "    }\n",
       "\n",
       "    .dataframe thead th {\n",
       "        text-align: right;\n",
       "    }\n",
       "</style>\n",
       "<table border=\"1\" class=\"dataframe\">\n",
       "  <thead>\n",
       "    <tr style=\"text-align: right;\">\n",
       "      <th></th>\n",
       "      <th>status</th>\n",
       "      <th>bed</th>\n",
       "      <th>bath</th>\n",
       "      <th>acre_lot</th>\n",
       "      <th>city</th>\n",
       "      <th>state</th>\n",
       "      <th>zip_code</th>\n",
       "      <th>house_size</th>\n",
       "      <th>sold_date</th>\n",
       "      <th>price</th>\n",
       "    </tr>\n",
       "  </thead>\n",
       "  <tbody>\n",
       "    <tr>\n",
       "      <th>0</th>\n",
       "      <td>for_sale</td>\n",
       "      <td>3.0</td>\n",
       "      <td>2.0</td>\n",
       "      <td>0.12</td>\n",
       "      <td>Adjuntas</td>\n",
       "      <td>Puerto Rico</td>\n",
       "      <td>601.0</td>\n",
       "      <td>920.0</td>\n",
       "      <td>NaN</td>\n",
       "      <td>105000.0</td>\n",
       "    </tr>\n",
       "    <tr>\n",
       "      <th>1</th>\n",
       "      <td>for_sale</td>\n",
       "      <td>4.0</td>\n",
       "      <td>2.0</td>\n",
       "      <td>0.08</td>\n",
       "      <td>Adjuntas</td>\n",
       "      <td>Puerto Rico</td>\n",
       "      <td>601.0</td>\n",
       "      <td>1527.0</td>\n",
       "      <td>NaN</td>\n",
       "      <td>80000.0</td>\n",
       "    </tr>\n",
       "    <tr>\n",
       "      <th>2</th>\n",
       "      <td>for_sale</td>\n",
       "      <td>2.0</td>\n",
       "      <td>1.0</td>\n",
       "      <td>0.15</td>\n",
       "      <td>Juana Diaz</td>\n",
       "      <td>Puerto Rico</td>\n",
       "      <td>795.0</td>\n",
       "      <td>748.0</td>\n",
       "      <td>NaN</td>\n",
       "      <td>67000.0</td>\n",
       "    </tr>\n",
       "    <tr>\n",
       "      <th>3</th>\n",
       "      <td>for_sale</td>\n",
       "      <td>4.0</td>\n",
       "      <td>2.0</td>\n",
       "      <td>0.10</td>\n",
       "      <td>Ponce</td>\n",
       "      <td>Puerto Rico</td>\n",
       "      <td>731.0</td>\n",
       "      <td>1800.0</td>\n",
       "      <td>NaN</td>\n",
       "      <td>145000.0</td>\n",
       "    </tr>\n",
       "    <tr>\n",
       "      <th>4</th>\n",
       "      <td>for_sale</td>\n",
       "      <td>6.0</td>\n",
       "      <td>2.0</td>\n",
       "      <td>0.05</td>\n",
       "      <td>Mayaguez</td>\n",
       "      <td>Puerto Rico</td>\n",
       "      <td>680.0</td>\n",
       "      <td>NaN</td>\n",
       "      <td>NaN</td>\n",
       "      <td>65000.0</td>\n",
       "    </tr>\n",
       "    <tr>\n",
       "      <th>5</th>\n",
       "      <td>for_sale</td>\n",
       "      <td>4.0</td>\n",
       "      <td>3.0</td>\n",
       "      <td>0.46</td>\n",
       "      <td>San Sebastian</td>\n",
       "      <td>Puerto Rico</td>\n",
       "      <td>612.0</td>\n",
       "      <td>2520.0</td>\n",
       "      <td>NaN</td>\n",
       "      <td>179000.0</td>\n",
       "    </tr>\n",
       "    <tr>\n",
       "      <th>6</th>\n",
       "      <td>for_sale</td>\n",
       "      <td>3.0</td>\n",
       "      <td>1.0</td>\n",
       "      <td>0.20</td>\n",
       "      <td>Ciales</td>\n",
       "      <td>Puerto Rico</td>\n",
       "      <td>639.0</td>\n",
       "      <td>2040.0</td>\n",
       "      <td>NaN</td>\n",
       "      <td>50000.0</td>\n",
       "    </tr>\n",
       "    <tr>\n",
       "      <th>7</th>\n",
       "      <td>for_sale</td>\n",
       "      <td>3.0</td>\n",
       "      <td>2.0</td>\n",
       "      <td>0.08</td>\n",
       "      <td>Ponce</td>\n",
       "      <td>Puerto Rico</td>\n",
       "      <td>731.0</td>\n",
       "      <td>1050.0</td>\n",
       "      <td>NaN</td>\n",
       "      <td>71600.0</td>\n",
       "    </tr>\n",
       "    <tr>\n",
       "      <th>8</th>\n",
       "      <td>for_sale</td>\n",
       "      <td>2.0</td>\n",
       "      <td>1.0</td>\n",
       "      <td>0.09</td>\n",
       "      <td>Ponce</td>\n",
       "      <td>Puerto Rico</td>\n",
       "      <td>730.0</td>\n",
       "      <td>1092.0</td>\n",
       "      <td>NaN</td>\n",
       "      <td>100000.0</td>\n",
       "    </tr>\n",
       "    <tr>\n",
       "      <th>9</th>\n",
       "      <td>for_sale</td>\n",
       "      <td>5.0</td>\n",
       "      <td>3.0</td>\n",
       "      <td>7.46</td>\n",
       "      <td>Las Marias</td>\n",
       "      <td>Puerto Rico</td>\n",
       "      <td>670.0</td>\n",
       "      <td>5403.0</td>\n",
       "      <td>NaN</td>\n",
       "      <td>300000.0</td>\n",
       "    </tr>\n",
       "    <tr>\n",
       "      <th>10</th>\n",
       "      <td>for_sale</td>\n",
       "      <td>3.0</td>\n",
       "      <td>2.0</td>\n",
       "      <td>13.39</td>\n",
       "      <td>Isabela</td>\n",
       "      <td>Puerto Rico</td>\n",
       "      <td>662.0</td>\n",
       "      <td>1106.0</td>\n",
       "      <td>NaN</td>\n",
       "      <td>89000.0</td>\n",
       "    </tr>\n",
       "    <tr>\n",
       "      <th>11</th>\n",
       "      <td>for_sale</td>\n",
       "      <td>3.0</td>\n",
       "      <td>2.0</td>\n",
       "      <td>0.08</td>\n",
       "      <td>Juana Diaz</td>\n",
       "      <td>Puerto Rico</td>\n",
       "      <td>795.0</td>\n",
       "      <td>1045.0</td>\n",
       "      <td>NaN</td>\n",
       "      <td>150000.0</td>\n",
       "    </tr>\n",
       "    <tr>\n",
       "      <th>12</th>\n",
       "      <td>for_sale</td>\n",
       "      <td>3.0</td>\n",
       "      <td>2.0</td>\n",
       "      <td>0.10</td>\n",
       "      <td>Lares</td>\n",
       "      <td>Puerto Rico</td>\n",
       "      <td>669.0</td>\n",
       "      <td>4161.0</td>\n",
       "      <td>NaN</td>\n",
       "      <td>155000.0</td>\n",
       "    </tr>\n",
       "    <tr>\n",
       "      <th>13</th>\n",
       "      <td>for_sale</td>\n",
       "      <td>5.0</td>\n",
       "      <td>2.0</td>\n",
       "      <td>0.12</td>\n",
       "      <td>Utuado</td>\n",
       "      <td>Puerto Rico</td>\n",
       "      <td>641.0</td>\n",
       "      <td>1620.0</td>\n",
       "      <td>NaN</td>\n",
       "      <td>79000.0</td>\n",
       "    </tr>\n",
       "    <tr>\n",
       "      <th>14</th>\n",
       "      <td>for_sale</td>\n",
       "      <td>5.0</td>\n",
       "      <td>5.0</td>\n",
       "      <td>0.74</td>\n",
       "      <td>Ponce</td>\n",
       "      <td>Puerto Rico</td>\n",
       "      <td>731.0</td>\n",
       "      <td>2677.0</td>\n",
       "      <td>NaN</td>\n",
       "      <td>649000.0</td>\n",
       "    </tr>\n",
       "  </tbody>\n",
       "</table>\n",
       "</div>"
      ],
      "text/plain": [
       "      status  bed  bath  acre_lot           city        state  zip_code  \\\n",
       "0   for_sale  3.0   2.0      0.12       Adjuntas  Puerto Rico     601.0   \n",
       "1   for_sale  4.0   2.0      0.08       Adjuntas  Puerto Rico     601.0   \n",
       "2   for_sale  2.0   1.0      0.15     Juana Diaz  Puerto Rico     795.0   \n",
       "3   for_sale  4.0   2.0      0.10          Ponce  Puerto Rico     731.0   \n",
       "4   for_sale  6.0   2.0      0.05       Mayaguez  Puerto Rico     680.0   \n",
       "5   for_sale  4.0   3.0      0.46  San Sebastian  Puerto Rico     612.0   \n",
       "6   for_sale  3.0   1.0      0.20         Ciales  Puerto Rico     639.0   \n",
       "7   for_sale  3.0   2.0      0.08          Ponce  Puerto Rico     731.0   \n",
       "8   for_sale  2.0   1.0      0.09          Ponce  Puerto Rico     730.0   \n",
       "9   for_sale  5.0   3.0      7.46     Las Marias  Puerto Rico     670.0   \n",
       "10  for_sale  3.0   2.0     13.39        Isabela  Puerto Rico     662.0   \n",
       "11  for_sale  3.0   2.0      0.08     Juana Diaz  Puerto Rico     795.0   \n",
       "12  for_sale  3.0   2.0      0.10          Lares  Puerto Rico     669.0   \n",
       "13  for_sale  5.0   2.0      0.12         Utuado  Puerto Rico     641.0   \n",
       "14  for_sale  5.0   5.0      0.74          Ponce  Puerto Rico     731.0   \n",
       "\n",
       "    house_size sold_date     price  \n",
       "0        920.0       NaN  105000.0  \n",
       "1       1527.0       NaN   80000.0  \n",
       "2        748.0       NaN   67000.0  \n",
       "3       1800.0       NaN  145000.0  \n",
       "4          NaN       NaN   65000.0  \n",
       "5       2520.0       NaN  179000.0  \n",
       "6       2040.0       NaN   50000.0  \n",
       "7       1050.0       NaN   71600.0  \n",
       "8       1092.0       NaN  100000.0  \n",
       "9       5403.0       NaN  300000.0  \n",
       "10      1106.0       NaN   89000.0  \n",
       "11      1045.0       NaN  150000.0  \n",
       "12      4161.0       NaN  155000.0  \n",
       "13      1620.0       NaN   79000.0  \n",
       "14      2677.0       NaN  649000.0  "
      ]
     },
     "execution_count": 225,
     "metadata": {},
     "output_type": "execute_result"
    }
   ],
   "source": [
    "# Create a boolean mask for duplicated rows\n",
    "duplicated_mask = df_test.duplicated(keep=False)\n",
    "\n",
    "# Use the mask to filter the DataFrame\n",
    "duplicated_df_test = df_test[duplicated_mask]\n",
    "\n",
    "# Display the first few duplicated rows\n",
    "duplicated_df_test.head(15)\n"
   ]
  },
  {
   "cell_type": "code",
   "execution_count": 226,
   "id": "1e7a171c-cf97-474c-9afb-4e36d614b4c8",
   "metadata": {
    "tags": []
   },
   "outputs": [
    {
     "data": {
      "text/plain": [
       "Index(['status', 'bed', 'bath', 'acre_lot', 'city', 'state', 'zip_code',\n",
       "       'house_size', 'sold_date', 'price'],\n",
       "      dtype='object')"
      ]
     },
     "execution_count": 226,
     "metadata": {},
     "output_type": "execute_result"
    }
   ],
   "source": [
    "df_test.columns"
   ]
  },
  {
   "cell_type": "code",
   "execution_count": 228,
   "id": "0bfe9b64-21f7-444e-9971-3aa68d95f149",
   "metadata": {
    "tags": []
   },
   "outputs": [
    {
     "name": "stdout",
     "output_type": "stream",
     "text": [
      "                status  bed  bath  acre_lot       city          state  \\\n",
      "103039        for_sale  1.0   1.0      0.01     Boston  Massachusetts   \n",
      "108831        for_sale  1.0   1.0      0.01     Boston  Massachusetts   \n",
      "121493        for_sale  1.0   1.0      0.01     Boston  Massachusetts   \n",
      "125494        for_sale  1.0   1.0      0.01     Boston  Massachusetts   \n",
      "128028        for_sale  1.0   1.0      0.01     Boston  Massachusetts   \n",
      "...                ...  ...   ...       ...        ...            ...   \n",
      "107301  ready_to_build  4.0   NaN       NaN  Hopkinton  Massachusetts   \n",
      "112014  ready_to_build  4.0   NaN       NaN  Hopkinton  Massachusetts   \n",
      "114118  ready_to_build  4.0   NaN       NaN  Hopkinton  Massachusetts   \n",
      "135235  ready_to_build  4.0   NaN       NaN  Hopkinton  Massachusetts   \n",
      "138988  ready_to_build  4.0   NaN       NaN  Hopkinton  Massachusetts   \n",
      "\n",
      "        zip_code  house_size   sold_date      price  \n",
      "103039    2108.0       519.0  2011-04-22   679000.0  \n",
      "108831    2108.0       519.0  2011-04-22   679000.0  \n",
      "121493    2108.0       519.0  2011-04-22   679000.0  \n",
      "125494    2108.0       519.0  2011-04-22   679000.0  \n",
      "128028    2108.0       519.0  2011-04-22   679000.0  \n",
      "...          ...         ...         ...        ...  \n",
      "107301    1748.0      4747.0         NaN  1841995.0  \n",
      "112014    1748.0      4747.0         NaN  1841995.0  \n",
      "114118    1748.0      4747.0         NaN  1841995.0  \n",
      "135235    1748.0      4747.0         NaN  1841995.0  \n",
      "138988    1748.0      4747.0         NaN  1841995.0  \n",
      "\n",
      "[201184 rows x 10 columns]\n"
     ]
    }
   ],
   "source": [
    "# Create a boolean mask for duplicated rows\n",
    "duplicated_mask = df_test.duplicated(keep=False)\n",
    "\n",
    "# Use the mask to filter the DataFrame\n",
    "duplicated_df_test = df_test[duplicated_mask]\n",
    "\n",
    "# Sort the DataFrame by all columns\n",
    "sorted_duplicated_df_test = duplicated_df_test.sort_values(by=['status', 'bed', 'bath', 'acre_lot', 'city', 'state', 'zip_code', 'house_size', 'sold_date', 'price'])\n",
    "\n",
    "# Display the sorted DataFrame\n",
    "print(sorted_duplicated_df_test)\n"
   ]
  },
  {
   "cell_type": "code",
   "execution_count": 236,
   "id": "918c2da0-8750-4433-8cda-303e023c89ad",
   "metadata": {
    "tags": []
   },
   "outputs": [
    {
     "name": "stdout",
     "output_type": "stream",
     "text": [
      "status        ready_to_build\n",
      "bed                      4.0\n",
      "bath                     NaN\n",
      "acre_lot                 NaN\n",
      "city               Hopkinton\n",
      "state          Massachusetts\n",
      "zip_code              1748.0\n",
      "house_size            4747.0\n",
      "sold_date                NaN\n",
      "price              1841995.0\n",
      "Name: 107301, dtype: object\n"
     ]
    }
   ],
   "source": [
    "print(df_test.iloc[107301])"
   ]
  },
  {
   "cell_type": "code",
   "execution_count": 237,
   "id": "b98ef6ac-0ee8-463b-a3f4-3a9b9b0a699b",
   "metadata": {
    "tags": []
   },
   "outputs": [
    {
     "data": {
      "text/plain": [
       "status        ready_to_build\n",
       "bed                      4.0\n",
       "bath                     NaN\n",
       "acre_lot                 NaN\n",
       "city               Hopkinton\n",
       "state          Massachusetts\n",
       "zip_code              1748.0\n",
       "house_size            4747.0\n",
       "sold_date                NaN\n",
       "price              1841995.0\n",
       "Name: 112014, dtype: object"
      ]
     },
     "execution_count": 237,
     "metadata": {},
     "output_type": "execute_result"
    }
   ],
   "source": [
    "df_test.iloc[112014]"
   ]
  },
  {
   "cell_type": "code",
   "execution_count": 238,
   "id": "562c0750-bbc5-45c1-a1b0-d8c3564dd51e",
   "metadata": {
    "tags": []
   },
   "outputs": [
    {
     "data": {
      "text/plain": [
       "<bound method DataFrame.info of           status  bed  bath  acre_lot          city           state  zip_code  \\\n",
       "829     for_sale  7.0   3.0      0.09        Dorado     Puerto Rico     949.0   \n",
       "10344   for_sale  5.0   4.0      0.99  Saint Thomas  Virgin Islands     802.0   \n",
       "24237   for_sale  3.0   3.0      0.45        Agawam   Massachusetts    1001.0   \n",
       "24238   for_sale  3.0   2.0      0.36        Agawam   Massachusetts    1001.0   \n",
       "24244   for_sale  3.0   2.0      0.46        Agawam   Massachusetts    1001.0   \n",
       "...          ...  ...   ...       ...           ...             ...       ...   \n",
       "205433  for_sale  3.0   3.0      0.67         Truro   Massachusetts    2666.0   \n",
       "205435  for_sale  2.0   2.0      0.79         Truro   Massachusetts    2666.0   \n",
       "205436  for_sale  5.0   3.0      0.84         Truro   Massachusetts    2666.0   \n",
       "205721  for_sale  2.0   2.0      0.25  Provincetown   Massachusetts    2657.0   \n",
       "205927  for_sale  4.0   3.0      0.44  West Harwich   Massachusetts    2671.0   \n",
       "\n",
       "        house_size prev_sold_date      price  \n",
       "829         1192.0     2019-06-28   110000.0  \n",
       "10344       5000.0     2013-10-11   950000.0  \n",
       "24237       2314.0     2014-06-25   525000.0  \n",
       "24238       1276.0     2012-10-12   289900.0  \n",
       "24244       1476.0     1986-11-20   384900.0  \n",
       "...            ...            ...        ...  \n",
       "205433      2164.0     1989-07-06   949000.0  \n",
       "205435      1651.0     1989-09-14   749000.0  \n",
       "205436      3300.0     1992-04-24  1150000.0  \n",
       "205721      1110.0     2000-01-10   849000.0  \n",
       "205927      1880.0     1995-01-04   650000.0  \n",
       "\n",
       "[5958 rows x 10 columns]>"
      ]
     },
     "execution_count": 238,
     "metadata": {},
     "output_type": "execute_result"
    }
   ],
   "source": [
    "df.info"
   ]
  },
  {
   "cell_type": "code",
   "execution_count": 268,
   "id": "af424b32-3f43-4dfa-b53e-66f8aa256fae",
   "metadata": {
    "tags": []
   },
   "outputs": [
    {
     "name": "stdout",
     "output_type": "stream",
     "text": [
      "Mean Squared Error: 404811.02695776714\n"
     ]
    }
   ],
   "source": [
    "import pandas as pd\n",
    "from sklearn.model_selection import train_test_split\n",
    "from sklearn.linear_model import LinearRegression\n",
    "from sklearn.metrics import mean_squared_error\n",
    "\n",
    "# One-hot encoding for 'city' column\n",
    "df3 = pd.get_dummies(df, columns=['city'])\n",
    "\n",
    "# Define features and target\n",
    "features = df3[['bed', 'bath'] + [col for col in df.columns if 'city_' in col]]\n",
    "target = df3['house_size']\n",
    "\n",
    "# Split the data into training set and test set\n",
    "X_train, X_test, y_train, y_test = train_test_split(features, target, test_size=0.2, random_state=42)\n",
    "\n",
    "# Create a Linear Regression model\n",
    "model = LinearRegression()\n",
    "\n",
    "# Train the model\n",
    "model.fit(X_train, y_train)\n",
    "\n",
    "# Make predictions\n",
    "predictions = model.predict(X_test)\n",
    "\n",
    "# Evaluate the model\n",
    "mse = mean_squared_error(y_test, predictions)\n",
    "print(f'Mean Squared Error: {mse}')\n"
   ]
  },
  {
   "cell_type": "code",
   "execution_count": 271,
   "id": "6e668401-cf12-47eb-a960-02e74e36bf68",
   "metadata": {
    "tags": []
   },
   "outputs": [
    {
     "name": "stdout",
     "output_type": "stream",
     "text": [
      "Predicted house size: 1403.0\n"
     ]
    }
   ],
   "source": [
    "# Define the input parameters\n",
    "bed = 2\n",
    "bath = 2\n",
    "city = 'Boston'  # replace with the city you're interested in\n",
    "\n",
    "# Create a new DataFrame with the same columns as your features\n",
    "input_df = pd.DataFrame(columns=features.columns)\n",
    "\n",
    "# Fill in the values for bed and bath\n",
    "input_df.loc[0, 'bed'] = bed\n",
    "input_df.loc[0, 'bath'] = bath\n",
    "\n",
    "# Set the column corresponding to the city to 1, and all other city columns to 0\n",
    "for column in input_df.columns:\n",
    "    if 'city_' in column:\n",
    "        if column == 'city_' + city:\n",
    "            input_df.loc[0, column] = 1\n",
    "        else:\n",
    "            input_df.loc[0, column] = 0\n",
    "\n",
    "# Make the prediction\n",
    "predicted_house_size = model.predict(input_df).round(0)\n",
    "print(f'Predicted house size: {predicted_house_size[0]}')\n"
   ]
  },
  {
   "cell_type": "code",
   "execution_count": 286,
   "id": "13d0734e-c79f-4556-8db7-e829bc32c40b",
   "metadata": {
    "tags": []
   },
   "outputs": [
    {
     "name": "stdout",
     "output_type": "stream",
     "text": [
      "513584.0 415000.0 0    299900.0\n",
      "Name: price, dtype: float64\n"
     ]
    }
   ],
   "source": [
    "mean = df['price'].mean().round()\n",
    "median = df['price'].median()\n",
    "mode = df['price'].mode()\n",
    "\n",
    "print(mean, median, mode)"
   ]
  },
  {
   "cell_type": "code",
   "execution_count": 282,
   "id": "db47de87-1edf-4de2-ae8f-51cb4c6302a9",
   "metadata": {
    "tags": []
   },
   "outputs": [
    {
     "data": {
      "text/plain": [
       "count    5.958000e+03\n",
       "mean     5.135841e+05\n",
       "std      3.258474e+05\n",
       "min      5.900000e+04\n",
       "25%      2.899000e+05\n",
       "50%      4.150000e+05\n",
       "75%      6.400000e+05\n",
       "max      1.850000e+06\n",
       "Name: price, dtype: float64"
      ]
     },
     "execution_count": 282,
     "metadata": {},
     "output_type": "execute_result"
    }
   ],
   "source": [
    "df['price'].describe()"
   ]
  },
  {
   "cell_type": "code",
   "execution_count": 275,
   "id": "15fbbcd3-3086-4e27-b7e2-e125ea37fbee",
   "metadata": {
    "tags": []
   },
   "outputs": [
    {
     "data": {
      "text/plain": [
       "city\n",
       "Abington         1881.875000\n",
       "Acton            2938.714286\n",
       "Adams            2564.153846\n",
       "Agawam           1869.125000\n",
       "Alford           1948.750000\n",
       "                    ...     \n",
       "Worcester        2125.428571\n",
       "Worthington      2180.000000\n",
       "Wrentham         2064.000000\n",
       "Yarmouth         2111.000000\n",
       "Yarmouth Port    2203.400000\n",
       "Name: house_size, Length: 520, dtype: float64"
      ]
     },
     "execution_count": 275,
     "metadata": {},
     "output_type": "execute_result"
    }
   ],
   "source": [
    "grouped_h = df.groupby('city')['house_size'].mean()\n",
    "grouped_h"
   ]
  },
  {
   "cell_type": "code",
   "execution_count": null,
   "id": "fb8a49d6-74a0-4f68-9584-2ad29a0fb2ae",
   "metadata": {},
   "outputs": [],
   "source": [
    "group"
   ]
  },
  {
   "cell_type": "code",
   "execution_count": 280,
   "id": "9fe21733-2d81-4934-a1f4-b0efb83c9b48",
   "metadata": {
    "tags": []
   },
   "outputs": [
    {
     "data": {
      "text/plain": [
       "1444.0"
      ]
     },
     "execution_count": 280,
     "metadata": {},
     "output_type": "execute_result"
    }
   ],
   "source": [
    "grouped_h['Boston'].round()"
   ]
  },
  {
   "cell_type": "code",
   "execution_count": null,
   "id": "eb6c7c1d-9c96-4a02-8c64-ad2e8a5ebb61",
   "metadata": {},
   "outputs": [],
   "source": []
  }
 ],
 "metadata": {
  "kernelspec": {
   "display_name": "Python 3 (ipykernel)",
   "language": "python",
   "name": "python3"
  },
  "language_info": {
   "codemirror_mode": {
    "name": "ipython",
    "version": 3
   },
   "file_extension": ".py",
   "mimetype": "text/x-python",
   "name": "python",
   "nbconvert_exporter": "python",
   "pygments_lexer": "ipython3",
   "version": "3.10.11"
  }
 },
 "nbformat": 4,
 "nbformat_minor": 5
}
